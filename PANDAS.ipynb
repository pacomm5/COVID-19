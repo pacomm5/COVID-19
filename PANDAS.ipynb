{
  "nbformat": 4,
  "nbformat_minor": 0,
  "metadata": {
    "colab": {
      "name": "PANDAS.ipynb",
      "provenance": [],
      "authorship_tag": "ABX9TyMntJ4NNhs0CXwYwLu2mu7K",
      "include_colab_link": true
    },
    "kernelspec": {
      "name": "python3",
      "display_name": "Python 3"
    },
    "language_info": {
      "name": "python"
    }
  },
  "cells": [
    {
      "cell_type": "markdown",
      "metadata": {
        "id": "view-in-github",
        "colab_type": "text"
      },
      "source": [
        "<a href=\"https://colab.research.google.com/github/pacomm5/COVID-19/blob/master/PANDAS.ipynb\" target=\"_parent\"><img src=\"https://colab.research.google.com/assets/colab-badge.svg\" alt=\"Open In Colab\"/></a>"
      ]
    },
    {
      "cell_type": "markdown",
      "source": [
        "#SERIES"
      ],
      "metadata": {
        "id": "T1i1gxTz3FEg"
      }
    },
    {
      "cell_type": "markdown",
      "source": [
        "##CREAR UNA SERIE DE PANDAS A PARTIR DE UN INDICE NORMAL DE LISTA Y UN INDICE PERSONALIZADO"
      ],
      "metadata": {
        "id": "Xfyq-AkP2N1r"
      }
    },
    {
      "cell_type": "code",
      "source": [
        "import pandas as pd\n"
      ],
      "metadata": {
        "id": "0H7ZcoZ82s2V"
      },
      "execution_count": 4,
      "outputs": []
    },
    {
      "cell_type": "code",
      "execution_count": 5,
      "metadata": {
        "colab": {
          "base_uri": "https://localhost:8080/"
        },
        "id": "5FC6WiLh2EKd",
        "outputId": "0844bd67-eef2-4216-a374-68da7e162dcb"
      },
      "outputs": [
        {
          "output_type": "execute_result",
          "data": {
            "text/plain": [
              "car1     Honda\n",
              "car2    Toyota\n",
              "car3      Ford\n",
              "ev1      Tesla\n",
              "ev2      Lucid\n",
              "ev3     Rivian\n",
              "dtype: object"
            ]
          },
          "metadata": {},
          "execution_count": 5
        }
      ],
      "source": [
        "# Create a pandas data series from a list:\n",
        "\n",
        "L1 = ['Honda', 'Toyota','Ford','Tesla','Lucid','Rivian']\n",
        "L1\n",
        "\n",
        "\n",
        "#['Honda', 'Toyota', 'Ford', 'Tesla', 'Lucid', 'Rivian']\n",
        "\n",
        "pseries_1 = pd.Series(data = L1)\n",
        "pseries_1\n",
        "\n",
        "\n",
        "\n",
        "\n",
        "#create a pandas data series with index\n",
        "car_index = ['car1','car2','car3','ev1','ev2','ev3']\n",
        "\n",
        "pseries_2 = pd.Series(data = L1,index = car_index)\n",
        "pseries_2\n",
        "\n"
      ]
    },
    {
      "cell_type": "code",
      "source": [
        "#create a pandas data series with index\n",
        "car_index = ['car1','car2','car3','ev1','ev2','ev3']\n",
        "\n",
        "pseries_2 = pd.Series(data = L1,index = car_index)\n",
        "pseries_2"
      ],
      "metadata": {
        "colab": {
          "base_uri": "https://localhost:8080/"
        },
        "id": "MneODxT92lfg",
        "outputId": "3c05faf4-deaa-4f55-bee2-d828a8937675"
      },
      "execution_count": 6,
      "outputs": [
        {
          "output_type": "execute_result",
          "data": {
            "text/plain": [
              "car1     Honda\n",
              "car2    Toyota\n",
              "car3      Ford\n",
              "ev1      Tesla\n",
              "ev2      Lucid\n",
              "ev3     Rivian\n",
              "dtype: object"
            ]
          },
          "metadata": {},
          "execution_count": 6
        }
      ]
    },
    {
      "cell_type": "markdown",
      "source": [
        "##Crea una serie de Pandas a partir de un diccionario de pitón"
      ],
      "metadata": {
        "id": "rzdRZAJC2-4l"
      }
    },
    {
      "cell_type": "code",
      "source": [
        "#Create a pandas series from a python dictionary.\n",
        "pdict_1 = {\n",
        "    'car1': 'Honda',\n",
        "    'car2': 'Toyota',\n",
        "    'car3': 'Ford',\n",
        "    'car4': 'GM',\n",
        "    'car5': 'BMW',\n",
        "    'car6': 'Nissan'}\n",
        "    \n",
        "\n",
        "  \n",
        "pseries_2 = pd.Series(pdict_1)\n",
        "pseries_2\n",
        "  \n"
      ],
      "metadata": {
        "colab": {
          "base_uri": "https://localhost:8080/"
        },
        "id": "NFeXdkoV2xPC",
        "outputId": "0665c077-b857-49dd-931f-de73c0dbb383"
      },
      "execution_count": 7,
      "outputs": [
        {
          "output_type": "execute_result",
          "data": {
            "text/plain": [
              "car1     Honda\n",
              "car2    Toyota\n",
              "car3      Ford\n",
              "car4        GM\n",
              "car5       BMW\n",
              "car6    Nissan\n",
              "dtype: object"
            ]
          },
          "metadata": {},
          "execution_count": 7
        }
      ]
    },
    {
      "cell_type": "markdown",
      "source": [
        "## CREAR UNA SERIE DE PANDAS A PARTIR DE UNA AMTRIZ NUMPY"
      ],
      "metadata": {
        "id": "yQ0zX2ut4gqn"
      }
    },
    {
      "cell_type": "code",
      "source": [
        "#Create a pandas series from a Numpy array\n",
        "import numpy as np\n",
        "array_01 = np.random.randn(5)\n",
        "array_01\n",
        "\n"
      ],
      "metadata": {
        "colab": {
          "base_uri": "https://localhost:8080/"
        },
        "id": "yvtm8hoV362O",
        "outputId": "0abeb177-3654-4e67-8ce7-5ae46c9f7fcf"
      },
      "execution_count": 8,
      "outputs": [
        {
          "output_type": "execute_result",
          "data": {
            "text/plain": [
              "array([-0.45152783,  2.60788802,  0.04770416,  0.81680972,  0.54131705])"
            ]
          },
          "metadata": {},
          "execution_count": 8
        }
      ]
    },
    {
      "cell_type": "code",
      "source": [
        "pseries_3 = pd.Series(array_01)\n",
        "pseries_3"
      ],
      "metadata": {
        "colab": {
          "base_uri": "https://localhost:8080/"
        },
        "id": "B-226RlF42Z4",
        "outputId": "5f780873-b2a5-47cf-98d6-56e709593bc4"
      },
      "execution_count": 9,
      "outputs": [
        {
          "output_type": "execute_result",
          "data": {
            "text/plain": [
              "0   -0.451528\n",
              "1    2.607888\n",
              "2    0.047704\n",
              "3    0.816810\n",
              "4    0.541317\n",
              "dtype: float64"
            ]
          },
          "metadata": {},
          "execution_count": 9
        }
      ]
    },
    {
      "cell_type": "markdown",
      "source": [
        "## CREAR UNA SERIE DE PANDAS A PARTIR DE UN VALOR ESCALAR. "
      ],
      "metadata": {
        "id": "bF7O1IkC5EJA"
      }
    },
    {
      "cell_type": "code",
      "source": [
        "#If data is a scalar value, an index must be provided. \n",
        "#The value will be repeated to match the length of index.\n",
        "pseries_4 = pd.Series(8.0, index=[\"a\", \"b\", \"c\", \"d\", \"e\"])\n",
        "pseries_4\n"
      ],
      "metadata": {
        "colab": {
          "base_uri": "https://localhost:8080/"
        },
        "id": "ybBZcvuq46g8",
        "outputId": "7f0dc95e-fa4e-4097-e9b5-76bebeeb33c4"
      },
      "execution_count": 10,
      "outputs": [
        {
          "output_type": "execute_result",
          "data": {
            "text/plain": [
              "a    8.0\n",
              "b    8.0\n",
              "c    8.0\n",
              "d    8.0\n",
              "e    8.0\n",
              "dtype: float64"
            ]
          },
          "metadata": {},
          "execution_count": 10
        }
      ]
    },
    {
      "cell_type": "markdown",
      "source": [
        "## series, attributes-sort, index, sort values, describe, shape"
      ],
      "metadata": {
        "id": "Rd5Cjew55bx7"
      }
    },
    {
      "cell_type": "code",
      "source": [
        "pseries_2.shape"
      ],
      "metadata": {
        "colab": {
          "base_uri": "https://localhost:8080/"
        },
        "id": "MebiSMjf5vNS",
        "outputId": "706f2d5d-3db0-4ccc-c26d-2b507caaac15"
      },
      "execution_count": 11,
      "outputs": [
        {
          "output_type": "execute_result",
          "data": {
            "text/plain": [
              "(6,)"
            ]
          },
          "metadata": {},
          "execution_count": 11
        }
      ]
    },
    {
      "cell_type": "code",
      "source": [
        "pseries_2.describe"
      ],
      "metadata": {
        "colab": {
          "base_uri": "https://localhost:8080/"
        },
        "id": "mG0DD8FC50KV",
        "outputId": "81e8d0d8-adf2-4fbd-9301-dddd0cb2b3d6"
      },
      "execution_count": 12,
      "outputs": [
        {
          "output_type": "execute_result",
          "data": {
            "text/plain": [
              "<bound method NDFrame.describe of car1     Honda\n",
              "car2    Toyota\n",
              "car3      Ford\n",
              "car4        GM\n",
              "car5       BMW\n",
              "car6    Nissan\n",
              "dtype: object>"
            ]
          },
          "metadata": {},
          "execution_count": 12
        }
      ]
    },
    {
      "cell_type": "code",
      "source": [
        "pseries_2.index"
      ],
      "metadata": {
        "colab": {
          "base_uri": "https://localhost:8080/"
        },
        "id": "idFkDAXv53q3",
        "outputId": "b69e189a-77c9-4158-fb96-217489e9e636"
      },
      "execution_count": 13,
      "outputs": [
        {
          "output_type": "execute_result",
          "data": {
            "text/plain": [
              "Index(['car1', 'car2', 'car3', 'car4', 'car5', 'car6'], dtype='object')"
            ]
          },
          "metadata": {},
          "execution_count": 13
        }
      ]
    },
    {
      "cell_type": "code",
      "source": [
        "pseries_2.values"
      ],
      "metadata": {
        "colab": {
          "base_uri": "https://localhost:8080/"
        },
        "id": "cn-Rb_do572T",
        "outputId": "41edc19b-238f-422a-c472-18d62aea5770"
      },
      "execution_count": 14,
      "outputs": [
        {
          "output_type": "execute_result",
          "data": {
            "text/plain": [
              "array(['Honda', 'Toyota', 'Ford', 'GM', 'BMW', 'Nissan'], dtype=object)"
            ]
          },
          "metadata": {},
          "execution_count": 14
        }
      ]
    },
    {
      "cell_type": "code",
      "source": [
        "pseries_2.sort_index"
      ],
      "metadata": {
        "colab": {
          "base_uri": "https://localhost:8080/"
        },
        "id": "tWOYPGWH5-1E",
        "outputId": "9dd3b720-ac43-4d3d-c628-af850ecb7650"
      },
      "execution_count": 15,
      "outputs": [
        {
          "output_type": "execute_result",
          "data": {
            "text/plain": [
              "<bound method Series.sort_index of car1     Honda\n",
              "car2    Toyota\n",
              "car3      Ford\n",
              "car4        GM\n",
              "car5       BMW\n",
              "car6    Nissan\n",
              "dtype: object>"
            ]
          },
          "metadata": {},
          "execution_count": 15
        }
      ]
    },
    {
      "cell_type": "code",
      "source": [
        "pseries_2.sort_values(inplace=True)\n",
        "pseries_2"
      ],
      "metadata": {
        "colab": {
          "base_uri": "https://localhost:8080/"
        },
        "id": "UDqTC1in6CtU",
        "outputId": "58f322e2-61bc-4e3e-fa63-84425f102103"
      },
      "execution_count": 16,
      "outputs": [
        {
          "output_type": "execute_result",
          "data": {
            "text/plain": [
              "car5       BMW\n",
              "car3      Ford\n",
              "car4        GM\n",
              "car1     Honda\n",
              "car6    Nissan\n",
              "car2    Toyota\n",
              "dtype: object"
            ]
          },
          "metadata": {},
          "execution_count": 16
        }
      ]
    },
    {
      "cell_type": "markdown",
      "source": [
        "## renombrar series y atributos únicos"
      ],
      "metadata": {
        "id": "CEc36hyIlvAb"
      }
    },
    {
      "cell_type": "code",
      "source": [
        "import pandas as pd"
      ],
      "metadata": {
        "id": "8a93qvi9m1-s"
      },
      "execution_count": 17,
      "outputs": []
    },
    {
      "cell_type": "code",
      "source": [
        "#Series can also have a name attribute:\n",
        "pseries_5 = pd.Series(pdict_1, name='cars')\n",
        "pseries_5.name"
      ],
      "metadata": {
        "colab": {
          "base_uri": "https://localhost:8080/",
          "height": 34
        },
        "id": "NKG5Dso66Hs_",
        "outputId": "0dfd9f95-befd-4c5d-b7b7-602291cf92bf"
      },
      "execution_count": 18,
      "outputs": [
        {
          "output_type": "execute_result",
          "data": {
            "text/plain": [
              "'cars'"
            ],
            "application/vnd.google.colaboratory.intrinsic+json": {
              "type": "string"
            }
          },
          "metadata": {},
          "execution_count": 18
        }
      ]
    },
    {
      "cell_type": "code",
      "source": [
        "#You can rename a Series with the pandas.Series.rename() method.\n",
        "pseries_6 = pseries_5.rename(\"different_cars\")\n",
        "pseries_6.name"
      ],
      "metadata": {
        "colab": {
          "base_uri": "https://localhost:8080/",
          "height": 34
        },
        "id": "hxkjTugomWqK",
        "outputId": "62c42729-7e11-49fa-96ae-7d73b4d0bb21"
      },
      "execution_count": 19,
      "outputs": [
        {
          "output_type": "execute_result",
          "data": {
            "text/plain": [
              "'different_cars'"
            ],
            "application/vnd.google.colaboratory.intrinsic+json": {
              "type": "string"
            }
          },
          "metadata": {},
          "execution_count": 19
        }
      ]
    },
    {
      "cell_type": "code",
      "source": [
        "# Check if all elements are unique \n",
        "pseries_6.is_unique"
      ],
      "metadata": {
        "colab": {
          "base_uri": "https://localhost:8080/"
        },
        "id": "yItqn-S0mpch",
        "outputId": "10ffcdc8-27ed-487b-de90-1df6b9cdaa61"
      },
      "execution_count": 20,
      "outputs": [
        {
          "output_type": "execute_result",
          "data": {
            "text/plain": [
              "True"
            ]
          },
          "metadata": {},
          "execution_count": 20
        }
      ]
    },
    {
      "cell_type": "markdown",
      "source": [
        "## comprobar algunos metodos de series, head, tail, isnull ..."
      ],
      "metadata": {
        "id": "GRCjO1gEnFgW"
      }
    },
    {
      "cell_type": "code",
      "source": [
        "#Here are few methods. There are around 50-60 mothods. Check the documentation\n",
        "pseries_4.describe()"
      ],
      "metadata": {
        "colab": {
          "base_uri": "https://localhost:8080/"
        },
        "id": "vMlQANevm_Fq",
        "outputId": "cec1c99d-6591-43c5-e1df-613cfc592984"
      },
      "execution_count": 21,
      "outputs": [
        {
          "output_type": "execute_result",
          "data": {
            "text/plain": [
              "count    5.0\n",
              "mean     8.0\n",
              "std      0.0\n",
              "min      8.0\n",
              "25%      8.0\n",
              "50%      8.0\n",
              "75%      8.0\n",
              "max      8.0\n",
              "dtype: float64"
            ]
          },
          "metadata": {},
          "execution_count": 21
        }
      ]
    },
    {
      "cell_type": "code",
      "source": [
        "pseries_4.head(2)"
      ],
      "metadata": {
        "colab": {
          "base_uri": "https://localhost:8080/"
        },
        "id": "_-a2a4nzniUx",
        "outputId": "0d49a9f3-71ff-47b3-814e-bb73ce51eaa7"
      },
      "execution_count": 22,
      "outputs": [
        {
          "output_type": "execute_result",
          "data": {
            "text/plain": [
              "a    8.0\n",
              "b    8.0\n",
              "dtype: float64"
            ]
          },
          "metadata": {},
          "execution_count": 22
        }
      ]
    },
    {
      "cell_type": "code",
      "source": [
        "pseries_4.isnull()"
      ],
      "metadata": {
        "colab": {
          "base_uri": "https://localhost:8080/"
        },
        "id": "9mTIS6G3niNg",
        "outputId": "2948ec1e-89c3-470f-d7e2-651d3f8578c2"
      },
      "execution_count": 23,
      "outputs": [
        {
          "output_type": "execute_result",
          "data": {
            "text/plain": [
              "a    False\n",
              "b    False\n",
              "c    False\n",
              "d    False\n",
              "e    False\n",
              "dtype: bool"
            ]
          },
          "metadata": {},
          "execution_count": 23
        }
      ]
    },
    {
      "cell_type": "code",
      "source": [
        "pseries_4.sum()"
      ],
      "metadata": {
        "colab": {
          "base_uri": "https://localhost:8080/"
        },
        "id": "IGyYQx08niFP",
        "outputId": "bf6812f5-1056-4cee-f6e5-08797a57971f"
      },
      "execution_count": 24,
      "outputs": [
        {
          "output_type": "execute_result",
          "data": {
            "text/plain": [
              "40.0"
            ]
          },
          "metadata": {},
          "execution_count": 24
        }
      ]
    },
    {
      "cell_type": "code",
      "source": [
        "pseries_4.product()"
      ],
      "metadata": {
        "colab": {
          "base_uri": "https://localhost:8080/"
        },
        "id": "0ZHVGHyMnh6f",
        "outputId": "2dbd0e03-e017-4637-f511-102c86c304a4"
      },
      "execution_count": 25,
      "outputs": [
        {
          "output_type": "execute_result",
          "data": {
            "text/plain": [
              "32768.0"
            ]
          },
          "metadata": {},
          "execution_count": 25
        }
      ]
    },
    {
      "cell_type": "markdown",
      "source": [
        "## encontrar valores nulos"
      ],
      "metadata": {
        "id": "UnM591n4nxq6"
      }
    },
    {
      "cell_type": "code",
      "source": [
        "ps6 = pd.Series([10,np.nan,20,30,np.nan])\n",
        "ps6.isna()"
      ],
      "metadata": {
        "colab": {
          "base_uri": "https://localhost:8080/"
        },
        "id": "GVS7TFC-ntjO",
        "outputId": "1e1b446d-6686-4258-b91f-96526a247c1d"
      },
      "execution_count": 26,
      "outputs": [
        {
          "output_type": "execute_result",
          "data": {
            "text/plain": [
              "0    False\n",
              "1     True\n",
              "2    False\n",
              "3    False\n",
              "4     True\n",
              "dtype: bool"
            ]
          },
          "metadata": {},
          "execution_count": 26
        }
      ]
    },
    {
      "cell_type": "code",
      "source": [
        "ps6.isna().sum()"
      ],
      "metadata": {
        "colab": {
          "base_uri": "https://localhost:8080/"
        },
        "id": "4xTU_h6dn8_1",
        "outputId": "e2b587e3-ed0d-4d00-8a5e-b5ad8b973b4c"
      },
      "execution_count": 27,
      "outputs": [
        {
          "output_type": "execute_result",
          "data": {
            "text/plain": [
              "2"
            ]
          },
          "metadata": {},
          "execution_count": 27
        }
      ]
    },
    {
      "cell_type": "markdown",
      "source": [
        "## uso de funciones integradas en series"
      ],
      "metadata": {
        "id": "H7AESqAUoMvx"
      }
    },
    {
      "cell_type": "code",
      "source": [
        "# Python buildin functions:\n",
        "ps7 = pd.Series(np.random.randn(10))\n",
        "ps7"
      ],
      "metadata": {
        "colab": {
          "base_uri": "https://localhost:8080/"
        },
        "id": "PB2XPtl3oGPN",
        "outputId": "a5d93185-8501-440e-b992-a6a461b29548"
      },
      "execution_count": 28,
      "outputs": [
        {
          "output_type": "execute_result",
          "data": {
            "text/plain": [
              "0    0.850809\n",
              "1   -1.394997\n",
              "2   -1.154214\n",
              "3    2.608141\n",
              "4    0.343212\n",
              "5   -0.485921\n",
              "6   -1.150069\n",
              "7    0.392338\n",
              "8    0.387833\n",
              "9    0.174685\n",
              "dtype: float64"
            ]
          },
          "metadata": {},
          "execution_count": 28
        }
      ]
    },
    {
      "cell_type": "code",
      "source": [
        "len(ps7)"
      ],
      "metadata": {
        "colab": {
          "base_uri": "https://localhost:8080/"
        },
        "id": "BwIwEhcXoXbe",
        "outputId": "f671bf7d-20a6-4d2b-cfb5-88a7a676ea79"
      },
      "execution_count": 29,
      "outputs": [
        {
          "output_type": "execute_result",
          "data": {
            "text/plain": [
              "10"
            ]
          },
          "metadata": {},
          "execution_count": 29
        }
      ]
    },
    {
      "cell_type": "code",
      "source": [
        "max(ps7)"
      ],
      "metadata": {
        "colab": {
          "base_uri": "https://localhost:8080/"
        },
        "id": "OZLGGEDeodaK",
        "outputId": "5c3e6d85-3d64-4822-c80d-a9c4b74e7fb9"
      },
      "execution_count": 30,
      "outputs": [
        {
          "output_type": "execute_result",
          "data": {
            "text/plain": [
              "2.6081406997438616"
            ]
          },
          "metadata": {},
          "execution_count": 30
        }
      ]
    },
    {
      "cell_type": "code",
      "source": [
        "min(ps7)"
      ],
      "metadata": {
        "colab": {
          "base_uri": "https://localhost:8080/"
        },
        "id": "6bOmxSkQohOD",
        "outputId": "176bee4a-9b96-424a-c8bb-ce79a4b3bd21"
      },
      "execution_count": 31,
      "outputs": [
        {
          "output_type": "execute_result",
          "data": {
            "text/plain": [
              "-1.3949965682874732"
            ]
          },
          "metadata": {},
          "execution_count": 31
        }
      ]
    },
    {
      "cell_type": "code",
      "source": [
        "type(ps7)"
      ],
      "metadata": {
        "colab": {
          "base_uri": "https://localhost:8080/"
        },
        "id": "rcxZarPMomH-",
        "outputId": "daca0fa1-4352-4fd6-b733-c322c57800f0"
      },
      "execution_count": 32,
      "outputs": [
        {
          "output_type": "execute_result",
          "data": {
            "text/plain": [
              "pandas.core.series.Series"
            ]
          },
          "metadata": {},
          "execution_count": 32
        }
      ]
    },
    {
      "cell_type": "markdown",
      "source": [
        "## convertir una serie a lista, diccionario y matriz de numpy"
      ],
      "metadata": {
        "id": "u8hltajCovBo"
      }
    },
    {
      "cell_type": "code",
      "source": [
        "L1 = ['Honda', 'Toyota','Ford','Tesla','Lucid','Rivian']\n",
        "ps_8 = pd.Series(data = L1)\n",
        "#convert a series to a list\n",
        "list(ps_8)\n",
        "# con esto lo convertimos a lista. "
      ],
      "metadata": {
        "colab": {
          "base_uri": "https://localhost:8080/"
        },
        "id": "r17Ps0K6o3by",
        "outputId": "5fe8703a-d125-4668-fe9f-20c1dd7814ea"
      },
      "execution_count": 33,
      "outputs": [
        {
          "output_type": "execute_result",
          "data": {
            "text/plain": [
              "['Honda', 'Toyota', 'Ford', 'Tesla', 'Lucid', 'Rivian']"
            ]
          },
          "metadata": {},
          "execution_count": 33
        }
      ]
    },
    {
      "cell_type": "code",
      "source": [
        "#convert a series to dictionary\n",
        "dict(ps_8)\n",
        "# con esto lo convertimos a diccionario"
      ],
      "metadata": {
        "colab": {
          "base_uri": "https://localhost:8080/"
        },
        "id": "6MJOnCp0o8T8",
        "outputId": "1eb464fd-b9c2-4542-95c1-646298be013f"
      },
      "execution_count": 34,
      "outputs": [
        {
          "output_type": "execute_result",
          "data": {
            "text/plain": [
              "{0: 'Honda', 1: 'Toyota', 2: 'Ford', 3: 'Tesla', 4: 'Lucid', 5: 'Rivian'}"
            ]
          },
          "metadata": {},
          "execution_count": 34
        }
      ]
    },
    {
      "cell_type": "code",
      "source": [
        "#convert a series to a narray\n",
        "na1 = ps_8.values\n",
        "na1\n",
        "# asi lo estamos convirtiendo a un array. "
      ],
      "metadata": {
        "colab": {
          "base_uri": "https://localhost:8080/"
        },
        "id": "lC2LiO8OpGqG",
        "outputId": "847e2a4f-79cb-4395-bf58-3219c93cdedd"
      },
      "execution_count": 35,
      "outputs": [
        {
          "output_type": "execute_result",
          "data": {
            "text/plain": [
              "array(['Honda', 'Toyota', 'Ford', 'Tesla', 'Lucid', 'Rivian'],\n",
              "      dtype=object)"
            ]
          },
          "metadata": {},
          "execution_count": 35
        }
      ]
    },
    {
      "cell_type": "code",
      "source": [
        "type(na1)"
      ],
      "metadata": {
        "colab": {
          "base_uri": "https://localhost:8080/"
        },
        "id": "F-7P5UUSpRTZ",
        "outputId": "df4050db-de2d-4b87-ae13-3e82881beff9"
      },
      "execution_count": 36,
      "outputs": [
        {
          "output_type": "execute_result",
          "data": {
            "text/plain": [
              "numpy.ndarray"
            ]
          },
          "metadata": {},
          "execution_count": 36
        }
      ]
    },
    {
      "cell_type": "markdown",
      "source": [
        "## selección filtro de series. "
      ],
      "metadata": {
        "id": "C18HPXQCp2E3"
      }
    },
    {
      "cell_type": "code",
      "source": [
        "#Selecting data from a pandas series\n",
        "L1 = ['Honda', 'Toyota','Ford','Tesla','Lucid','Rivian']\n",
        "ps_8 = pd.Series(data = L1)\n",
        "ps_8[2]\n",
        "# aqui lo que hacemos en convertirlo a una serie y posteriormente decimos\n",
        "# que esta es igual al campo 2 que es Ford"
      ],
      "metadata": {
        "colab": {
          "base_uri": "https://localhost:8080/",
          "height": 34
        },
        "id": "SnDeQoyXp7yR",
        "outputId": "810d5f28-d3c4-4627-cc18-783d3befd4dc"
      },
      "execution_count": 37,
      "outputs": [
        {
          "output_type": "execute_result",
          "data": {
            "text/plain": [
              "'Ford'"
            ],
            "application/vnd.google.colaboratory.intrinsic+json": {
              "type": "string"
            }
          },
          "metadata": {},
          "execution_count": 37
        }
      ]
    },
    {
      "cell_type": "code",
      "source": [
        "ps_8[0:2]\n",
        "# aqui le decimos que nos desde el 0 al 2"
      ],
      "metadata": {
        "colab": {
          "base_uri": "https://localhost:8080/"
        },
        "id": "ZTWi74tyqB6U",
        "outputId": "51febe5b-1f4b-446a-9d54-2a1de3c9232e"
      },
      "execution_count": 38,
      "outputs": [
        {
          "output_type": "execute_result",
          "data": {
            "text/plain": [
              "0     Honda\n",
              "1    Toyota\n",
              "dtype: object"
            ]
          },
          "metadata": {},
          "execution_count": 38
        }
      ]
    },
    {
      "cell_type": "code",
      "source": [
        "ps_8[-1:]\n",
        "# aqui le decimos que nos de el último"
      ],
      "metadata": {
        "colab": {
          "base_uri": "https://localhost:8080/"
        },
        "id": "zMk0qBg6qV4V",
        "outputId": "66f53b1b-2868-4868-9999-10b3f44352c2"
      },
      "execution_count": 39,
      "outputs": [
        {
          "output_type": "execute_result",
          "data": {
            "text/plain": [
              "5    Rivian\n",
              "dtype: object"
            ]
          },
          "metadata": {},
          "execution_count": 39
        }
      ]
    },
    {
      "cell_type": "markdown",
      "source": [
        "## series la más grande y la más pequeña. el mayor y el menor"
      ],
      "metadata": {
        "id": "fDtubOBKqn9L"
      }
    },
    {
      "cell_type": "code",
      "source": [
        "countries_population = {\"Italy\": 59000000, \"France\": 65000000,\n",
        "                        \"Malta\": 434000, \"Maldives\": 434000,\n",
        "                        \"Brunei\": 434000, \"Iceland\": 337000,\n",
        "                        \"Nauru\": 11300, \"Tuvalu\": 11300,\n",
        "                        \"Anguilla\": 11300, \"Montserrat\": 5200}\n",
        "ps_9 = pd.Series(countries_population)\n",
        "\n",
        "#The n largest elements where n=5 by default.\n",
        "ps_9.nlargest()\n",
        "# lo primero que hacemos en convertirlo a series y posteriormente\n",
        "# le pedimos que nos de las mayores"
      ],
      "metadata": {
        "colab": {
          "base_uri": "https://localhost:8080/"
        },
        "id": "vh1sWos9qv7P",
        "outputId": "b70ff8f9-16da-4472-c66d-9c8b0d14752b"
      },
      "execution_count": 40,
      "outputs": [
        {
          "output_type": "execute_result",
          "data": {
            "text/plain": [
              "France      65000000\n",
              "Italy       59000000\n",
              "Malta         434000\n",
              "Maldives      434000\n",
              "Brunei        434000\n",
              "dtype: int64"
            ]
          },
          "metadata": {},
          "execution_count": 40
        }
      ]
    },
    {
      "cell_type": "code",
      "source": [
        "ps_9.nsmallest() # aqui que nos de las menores. "
      ],
      "metadata": {
        "colab": {
          "base_uri": "https://localhost:8080/"
        },
        "id": "3EMmldhOq3kQ",
        "outputId": "48d8d468-407a-452d-c8de-ead66f33d3d6"
      },
      "execution_count": 41,
      "outputs": [
        {
          "output_type": "execute_result",
          "data": {
            "text/plain": [
              "Montserrat      5200\n",
              "Nauru          11300\n",
              "Tuvalu         11300\n",
              "Anguilla       11300\n",
              "Iceland       337000\n",
              "dtype: int64"
            ]
          },
          "metadata": {},
          "execution_count": 41
        }
      ]
    },
    {
      "cell_type": "markdown",
      "source": [
        "# DATAFRAME"
      ],
      "metadata": {
        "id": "L199cGs2ra0y"
      }
    },
    {
      "cell_type": "markdown",
      "source": [
        "un dataframe es un conjunto de series. "
      ],
      "metadata": {
        "id": "numGRQTerdwA"
      }
    },
    {
      "cell_type": "markdown",
      "source": [
        "## crear un dataframe a partir de un diccionario"
      ],
      "metadata": {
        "id": "Jw8WxHlrripB"
      }
    },
    {
      "cell_type": "code",
      "source": [
        "cars_df = pd.DataFrame({'Cars':['Honda', 'Toyota','Ford','Tesla','Lucid','Rivian'], \n",
        "                        'Type':['IC', 'IC', 'IC', 'EV', 'EV', 'EV']})\n",
        "cars_df\n",
        "\n",
        "# aqui creamos un dataframe a partir de un diccionario"
      ],
      "metadata": {
        "colab": {
          "base_uri": "https://localhost:8080/",
          "height": 231
        },
        "id": "g17yEPbprFoR",
        "outputId": "fdb02d48-4374-4cd0-9bd1-3180d025c596"
      },
      "execution_count": 42,
      "outputs": [
        {
          "output_type": "execute_result",
          "data": {
            "text/plain": [
              "     Cars Type\n",
              "0   Honda   IC\n",
              "1  Toyota   IC\n",
              "2    Ford   IC\n",
              "3   Tesla   EV\n",
              "4   Lucid   EV\n",
              "5  Rivian   EV"
            ],
            "text/html": [
              "\n",
              "  <div id=\"df-859d5db7-53fa-4ded-a6f9-9226b7970860\">\n",
              "    <div class=\"colab-df-container\">\n",
              "      <div>\n",
              "<style scoped>\n",
              "    .dataframe tbody tr th:only-of-type {\n",
              "        vertical-align: middle;\n",
              "    }\n",
              "\n",
              "    .dataframe tbody tr th {\n",
              "        vertical-align: top;\n",
              "    }\n",
              "\n",
              "    .dataframe thead th {\n",
              "        text-align: right;\n",
              "    }\n",
              "</style>\n",
              "<table border=\"1\" class=\"dataframe\">\n",
              "  <thead>\n",
              "    <tr style=\"text-align: right;\">\n",
              "      <th></th>\n",
              "      <th>Cars</th>\n",
              "      <th>Type</th>\n",
              "    </tr>\n",
              "  </thead>\n",
              "  <tbody>\n",
              "    <tr>\n",
              "      <th>0</th>\n",
              "      <td>Honda</td>\n",
              "      <td>IC</td>\n",
              "    </tr>\n",
              "    <tr>\n",
              "      <th>1</th>\n",
              "      <td>Toyota</td>\n",
              "      <td>IC</td>\n",
              "    </tr>\n",
              "    <tr>\n",
              "      <th>2</th>\n",
              "      <td>Ford</td>\n",
              "      <td>IC</td>\n",
              "    </tr>\n",
              "    <tr>\n",
              "      <th>3</th>\n",
              "      <td>Tesla</td>\n",
              "      <td>EV</td>\n",
              "    </tr>\n",
              "    <tr>\n",
              "      <th>4</th>\n",
              "      <td>Lucid</td>\n",
              "      <td>EV</td>\n",
              "    </tr>\n",
              "    <tr>\n",
              "      <th>5</th>\n",
              "      <td>Rivian</td>\n",
              "      <td>EV</td>\n",
              "    </tr>\n",
              "  </tbody>\n",
              "</table>\n",
              "</div>\n",
              "      <button class=\"colab-df-convert\" onclick=\"convertToInteractive('df-859d5db7-53fa-4ded-a6f9-9226b7970860')\"\n",
              "              title=\"Convert this dataframe to an interactive table.\"\n",
              "              style=\"display:none;\">\n",
              "        \n",
              "  <svg xmlns=\"http://www.w3.org/2000/svg\" height=\"24px\"viewBox=\"0 0 24 24\"\n",
              "       width=\"24px\">\n",
              "    <path d=\"M0 0h24v24H0V0z\" fill=\"none\"/>\n",
              "    <path d=\"M18.56 5.44l.94 2.06.94-2.06 2.06-.94-2.06-.94-.94-2.06-.94 2.06-2.06.94zm-11 1L8.5 8.5l.94-2.06 2.06-.94-2.06-.94L8.5 2.5l-.94 2.06-2.06.94zm10 10l.94 2.06.94-2.06 2.06-.94-2.06-.94-.94-2.06-.94 2.06-2.06.94z\"/><path d=\"M17.41 7.96l-1.37-1.37c-.4-.4-.92-.59-1.43-.59-.52 0-1.04.2-1.43.59L10.3 9.45l-7.72 7.72c-.78.78-.78 2.05 0 2.83L4 21.41c.39.39.9.59 1.41.59.51 0 1.02-.2 1.41-.59l7.78-7.78 2.81-2.81c.8-.78.8-2.07 0-2.86zM5.41 20L4 18.59l7.72-7.72 1.47 1.35L5.41 20z\"/>\n",
              "  </svg>\n",
              "      </button>\n",
              "      \n",
              "  <style>\n",
              "    .colab-df-container {\n",
              "      display:flex;\n",
              "      flex-wrap:wrap;\n",
              "      gap: 12px;\n",
              "    }\n",
              "\n",
              "    .colab-df-convert {\n",
              "      background-color: #E8F0FE;\n",
              "      border: none;\n",
              "      border-radius: 50%;\n",
              "      cursor: pointer;\n",
              "      display: none;\n",
              "      fill: #1967D2;\n",
              "      height: 32px;\n",
              "      padding: 0 0 0 0;\n",
              "      width: 32px;\n",
              "    }\n",
              "\n",
              "    .colab-df-convert:hover {\n",
              "      background-color: #E2EBFA;\n",
              "      box-shadow: 0px 1px 2px rgba(60, 64, 67, 0.3), 0px 1px 3px 1px rgba(60, 64, 67, 0.15);\n",
              "      fill: #174EA6;\n",
              "    }\n",
              "\n",
              "    [theme=dark] .colab-df-convert {\n",
              "      background-color: #3B4455;\n",
              "      fill: #D2E3FC;\n",
              "    }\n",
              "\n",
              "    [theme=dark] .colab-df-convert:hover {\n",
              "      background-color: #434B5C;\n",
              "      box-shadow: 0px 1px 3px 1px rgba(0, 0, 0, 0.15);\n",
              "      filter: drop-shadow(0px 1px 2px rgba(0, 0, 0, 0.3));\n",
              "      fill: #FFFFFF;\n",
              "    }\n",
              "  </style>\n",
              "\n",
              "      <script>\n",
              "        const buttonEl =\n",
              "          document.querySelector('#df-859d5db7-53fa-4ded-a6f9-9226b7970860 button.colab-df-convert');\n",
              "        buttonEl.style.display =\n",
              "          google.colab.kernel.accessAllowed ? 'block' : 'none';\n",
              "\n",
              "        async function convertToInteractive(key) {\n",
              "          const element = document.querySelector('#df-859d5db7-53fa-4ded-a6f9-9226b7970860');\n",
              "          const dataTable =\n",
              "            await google.colab.kernel.invokeFunction('convertToInteractive',\n",
              "                                                     [key], {});\n",
              "          if (!dataTable) return;\n",
              "\n",
              "          const docLinkHtml = 'Like what you see? Visit the ' +\n",
              "            '<a target=\"_blank\" href=https://colab.research.google.com/notebooks/data_table.ipynb>data table notebook</a>'\n",
              "            + ' to learn more about interactive tables.';\n",
              "          element.innerHTML = '';\n",
              "          dataTable['output_type'] = 'display_data';\n",
              "          await google.colab.output.renderOutput(dataTable, element);\n",
              "          const docLink = document.createElement('div');\n",
              "          docLink.innerHTML = docLinkHtml;\n",
              "          element.appendChild(docLink);\n",
              "        }\n",
              "      </script>\n",
              "    </div>\n",
              "  </div>\n",
              "  "
            ]
          },
          "metadata": {},
          "execution_count": 42
        }
      ]
    },
    {
      "cell_type": "markdown",
      "source": [
        "## crear un dattaframe a partir de un array de numpy"
      ],
      "metadata": {
        "id": "sqjrHYMKrx3c"
      }
    },
    {
      "cell_type": "code",
      "source": [
        "#create a dataframe from a numpy array\n",
        "narray_df = pd.DataFrame(np.random.normal(size=(4,5)))\n",
        "narray_df\n"
      ],
      "metadata": {
        "colab": {
          "base_uri": "https://localhost:8080/",
          "height": 170
        },
        "id": "4fVNAzlOrqUv",
        "outputId": "18df3fcb-cba5-47a9-d0e0-ca2e2a927e05"
      },
      "execution_count": 43,
      "outputs": [
        {
          "output_type": "execute_result",
          "data": {
            "text/plain": [
              "          0         1         2         3         4\n",
              "0 -0.181697 -0.077436 -1.131699  0.440240 -0.450203\n",
              "1 -2.244374  1.175509 -1.867085  0.994603 -0.395300\n",
              "2  1.362957  1.697703 -0.881242  0.068173 -0.281188\n",
              "3 -0.910329 -0.769775 -0.648142 -0.133076  0.829075"
            ],
            "text/html": [
              "\n",
              "  <div id=\"df-8e2b5c3f-12f6-441b-8d4d-cc491f1a7986\">\n",
              "    <div class=\"colab-df-container\">\n",
              "      <div>\n",
              "<style scoped>\n",
              "    .dataframe tbody tr th:only-of-type {\n",
              "        vertical-align: middle;\n",
              "    }\n",
              "\n",
              "    .dataframe tbody tr th {\n",
              "        vertical-align: top;\n",
              "    }\n",
              "\n",
              "    .dataframe thead th {\n",
              "        text-align: right;\n",
              "    }\n",
              "</style>\n",
              "<table border=\"1\" class=\"dataframe\">\n",
              "  <thead>\n",
              "    <tr style=\"text-align: right;\">\n",
              "      <th></th>\n",
              "      <th>0</th>\n",
              "      <th>1</th>\n",
              "      <th>2</th>\n",
              "      <th>3</th>\n",
              "      <th>4</th>\n",
              "    </tr>\n",
              "  </thead>\n",
              "  <tbody>\n",
              "    <tr>\n",
              "      <th>0</th>\n",
              "      <td>-0.181697</td>\n",
              "      <td>-0.077436</td>\n",
              "      <td>-1.131699</td>\n",
              "      <td>0.440240</td>\n",
              "      <td>-0.450203</td>\n",
              "    </tr>\n",
              "    <tr>\n",
              "      <th>1</th>\n",
              "      <td>-2.244374</td>\n",
              "      <td>1.175509</td>\n",
              "      <td>-1.867085</td>\n",
              "      <td>0.994603</td>\n",
              "      <td>-0.395300</td>\n",
              "    </tr>\n",
              "    <tr>\n",
              "      <th>2</th>\n",
              "      <td>1.362957</td>\n",
              "      <td>1.697703</td>\n",
              "      <td>-0.881242</td>\n",
              "      <td>0.068173</td>\n",
              "      <td>-0.281188</td>\n",
              "    </tr>\n",
              "    <tr>\n",
              "      <th>3</th>\n",
              "      <td>-0.910329</td>\n",
              "      <td>-0.769775</td>\n",
              "      <td>-0.648142</td>\n",
              "      <td>-0.133076</td>\n",
              "      <td>0.829075</td>\n",
              "    </tr>\n",
              "  </tbody>\n",
              "</table>\n",
              "</div>\n",
              "      <button class=\"colab-df-convert\" onclick=\"convertToInteractive('df-8e2b5c3f-12f6-441b-8d4d-cc491f1a7986')\"\n",
              "              title=\"Convert this dataframe to an interactive table.\"\n",
              "              style=\"display:none;\">\n",
              "        \n",
              "  <svg xmlns=\"http://www.w3.org/2000/svg\" height=\"24px\"viewBox=\"0 0 24 24\"\n",
              "       width=\"24px\">\n",
              "    <path d=\"M0 0h24v24H0V0z\" fill=\"none\"/>\n",
              "    <path d=\"M18.56 5.44l.94 2.06.94-2.06 2.06-.94-2.06-.94-.94-2.06-.94 2.06-2.06.94zm-11 1L8.5 8.5l.94-2.06 2.06-.94-2.06-.94L8.5 2.5l-.94 2.06-2.06.94zm10 10l.94 2.06.94-2.06 2.06-.94-2.06-.94-.94-2.06-.94 2.06-2.06.94z\"/><path d=\"M17.41 7.96l-1.37-1.37c-.4-.4-.92-.59-1.43-.59-.52 0-1.04.2-1.43.59L10.3 9.45l-7.72 7.72c-.78.78-.78 2.05 0 2.83L4 21.41c.39.39.9.59 1.41.59.51 0 1.02-.2 1.41-.59l7.78-7.78 2.81-2.81c.8-.78.8-2.07 0-2.86zM5.41 20L4 18.59l7.72-7.72 1.47 1.35L5.41 20z\"/>\n",
              "  </svg>\n",
              "      </button>\n",
              "      \n",
              "  <style>\n",
              "    .colab-df-container {\n",
              "      display:flex;\n",
              "      flex-wrap:wrap;\n",
              "      gap: 12px;\n",
              "    }\n",
              "\n",
              "    .colab-df-convert {\n",
              "      background-color: #E8F0FE;\n",
              "      border: none;\n",
              "      border-radius: 50%;\n",
              "      cursor: pointer;\n",
              "      display: none;\n",
              "      fill: #1967D2;\n",
              "      height: 32px;\n",
              "      padding: 0 0 0 0;\n",
              "      width: 32px;\n",
              "    }\n",
              "\n",
              "    .colab-df-convert:hover {\n",
              "      background-color: #E2EBFA;\n",
              "      box-shadow: 0px 1px 2px rgba(60, 64, 67, 0.3), 0px 1px 3px 1px rgba(60, 64, 67, 0.15);\n",
              "      fill: #174EA6;\n",
              "    }\n",
              "\n",
              "    [theme=dark] .colab-df-convert {\n",
              "      background-color: #3B4455;\n",
              "      fill: #D2E3FC;\n",
              "    }\n",
              "\n",
              "    [theme=dark] .colab-df-convert:hover {\n",
              "      background-color: #434B5C;\n",
              "      box-shadow: 0px 1px 3px 1px rgba(0, 0, 0, 0.15);\n",
              "      filter: drop-shadow(0px 1px 2px rgba(0, 0, 0, 0.3));\n",
              "      fill: #FFFFFF;\n",
              "    }\n",
              "  </style>\n",
              "\n",
              "      <script>\n",
              "        const buttonEl =\n",
              "          document.querySelector('#df-8e2b5c3f-12f6-441b-8d4d-cc491f1a7986 button.colab-df-convert');\n",
              "        buttonEl.style.display =\n",
              "          google.colab.kernel.accessAllowed ? 'block' : 'none';\n",
              "\n",
              "        async function convertToInteractive(key) {\n",
              "          const element = document.querySelector('#df-8e2b5c3f-12f6-441b-8d4d-cc491f1a7986');\n",
              "          const dataTable =\n",
              "            await google.colab.kernel.invokeFunction('convertToInteractive',\n",
              "                                                     [key], {});\n",
              "          if (!dataTable) return;\n",
              "\n",
              "          const docLinkHtml = 'Like what you see? Visit the ' +\n",
              "            '<a target=\"_blank\" href=https://colab.research.google.com/notebooks/data_table.ipynb>data table notebook</a>'\n",
              "            + ' to learn more about interactive tables.';\n",
              "          element.innerHTML = '';\n",
              "          dataTable['output_type'] = 'display_data';\n",
              "          await google.colab.output.renderOutput(dataTable, element);\n",
              "          const docLink = document.createElement('div');\n",
              "          docLink.innerHTML = docLinkHtml;\n",
              "          element.appendChild(docLink);\n",
              "        }\n",
              "      </script>\n",
              "    </div>\n",
              "  </div>\n",
              "  "
            ]
          },
          "metadata": {},
          "execution_count": 43
        }
      ]
    },
    {
      "cell_type": "markdown",
      "source": [
        "## crear un data frame a partir de una serie"
      ],
      "metadata": {
        "id": "fvMY2hQ0sXQA"
      }
    },
    {
      "cell_type": "code",
      "source": [
        "s1 = pd.Series([1,2], index=['a','b'])\n",
        "series_df = pd.DataFrame([s1])\n",
        "series_df"
      ],
      "metadata": {
        "colab": {
          "base_uri": "https://localhost:8080/",
          "height": 78
        },
        "id": "OPrlFUD_sDDE",
        "outputId": "ba2e6334-e891-41b4-836b-15cafa42980d"
      },
      "execution_count": 47,
      "outputs": [
        {
          "output_type": "execute_result",
          "data": {
            "text/plain": [
              "   a  b\n",
              "0  1  2"
            ],
            "text/html": [
              "\n",
              "  <div id=\"df-fbc74ccb-e67e-4eea-a3a5-6d9c1b411cd5\">\n",
              "    <div class=\"colab-df-container\">\n",
              "      <div>\n",
              "<style scoped>\n",
              "    .dataframe tbody tr th:only-of-type {\n",
              "        vertical-align: middle;\n",
              "    }\n",
              "\n",
              "    .dataframe tbody tr th {\n",
              "        vertical-align: top;\n",
              "    }\n",
              "\n",
              "    .dataframe thead th {\n",
              "        text-align: right;\n",
              "    }\n",
              "</style>\n",
              "<table border=\"1\" class=\"dataframe\">\n",
              "  <thead>\n",
              "    <tr style=\"text-align: right;\">\n",
              "      <th></th>\n",
              "      <th>a</th>\n",
              "      <th>b</th>\n",
              "    </tr>\n",
              "  </thead>\n",
              "  <tbody>\n",
              "    <tr>\n",
              "      <th>0</th>\n",
              "      <td>1</td>\n",
              "      <td>2</td>\n",
              "    </tr>\n",
              "  </tbody>\n",
              "</table>\n",
              "</div>\n",
              "      <button class=\"colab-df-convert\" onclick=\"convertToInteractive('df-fbc74ccb-e67e-4eea-a3a5-6d9c1b411cd5')\"\n",
              "              title=\"Convert this dataframe to an interactive table.\"\n",
              "              style=\"display:none;\">\n",
              "        \n",
              "  <svg xmlns=\"http://www.w3.org/2000/svg\" height=\"24px\"viewBox=\"0 0 24 24\"\n",
              "       width=\"24px\">\n",
              "    <path d=\"M0 0h24v24H0V0z\" fill=\"none\"/>\n",
              "    <path d=\"M18.56 5.44l.94 2.06.94-2.06 2.06-.94-2.06-.94-.94-2.06-.94 2.06-2.06.94zm-11 1L8.5 8.5l.94-2.06 2.06-.94-2.06-.94L8.5 2.5l-.94 2.06-2.06.94zm10 10l.94 2.06.94-2.06 2.06-.94-2.06-.94-.94-2.06-.94 2.06-2.06.94z\"/><path d=\"M17.41 7.96l-1.37-1.37c-.4-.4-.92-.59-1.43-.59-.52 0-1.04.2-1.43.59L10.3 9.45l-7.72 7.72c-.78.78-.78 2.05 0 2.83L4 21.41c.39.39.9.59 1.41.59.51 0 1.02-.2 1.41-.59l7.78-7.78 2.81-2.81c.8-.78.8-2.07 0-2.86zM5.41 20L4 18.59l7.72-7.72 1.47 1.35L5.41 20z\"/>\n",
              "  </svg>\n",
              "      </button>\n",
              "      \n",
              "  <style>\n",
              "    .colab-df-container {\n",
              "      display:flex;\n",
              "      flex-wrap:wrap;\n",
              "      gap: 12px;\n",
              "    }\n",
              "\n",
              "    .colab-df-convert {\n",
              "      background-color: #E8F0FE;\n",
              "      border: none;\n",
              "      border-radius: 50%;\n",
              "      cursor: pointer;\n",
              "      display: none;\n",
              "      fill: #1967D2;\n",
              "      height: 32px;\n",
              "      padding: 0 0 0 0;\n",
              "      width: 32px;\n",
              "    }\n",
              "\n",
              "    .colab-df-convert:hover {\n",
              "      background-color: #E2EBFA;\n",
              "      box-shadow: 0px 1px 2px rgba(60, 64, 67, 0.3), 0px 1px 3px 1px rgba(60, 64, 67, 0.15);\n",
              "      fill: #174EA6;\n",
              "    }\n",
              "\n",
              "    [theme=dark] .colab-df-convert {\n",
              "      background-color: #3B4455;\n",
              "      fill: #D2E3FC;\n",
              "    }\n",
              "\n",
              "    [theme=dark] .colab-df-convert:hover {\n",
              "      background-color: #434B5C;\n",
              "      box-shadow: 0px 1px 3px 1px rgba(0, 0, 0, 0.15);\n",
              "      filter: drop-shadow(0px 1px 2px rgba(0, 0, 0, 0.3));\n",
              "      fill: #FFFFFF;\n",
              "    }\n",
              "  </style>\n",
              "\n",
              "      <script>\n",
              "        const buttonEl =\n",
              "          document.querySelector('#df-fbc74ccb-e67e-4eea-a3a5-6d9c1b411cd5 button.colab-df-convert');\n",
              "        buttonEl.style.display =\n",
              "          google.colab.kernel.accessAllowed ? 'block' : 'none';\n",
              "\n",
              "        async function convertToInteractive(key) {\n",
              "          const element = document.querySelector('#df-fbc74ccb-e67e-4eea-a3a5-6d9c1b411cd5');\n",
              "          const dataTable =\n",
              "            await google.colab.kernel.invokeFunction('convertToInteractive',\n",
              "                                                     [key], {});\n",
              "          if (!dataTable) return;\n",
              "\n",
              "          const docLinkHtml = 'Like what you see? Visit the ' +\n",
              "            '<a target=\"_blank\" href=https://colab.research.google.com/notebooks/data_table.ipynb>data table notebook</a>'\n",
              "            + ' to learn more about interactive tables.';\n",
              "          element.innerHTML = '';\n",
              "          dataTable['output_type'] = 'display_data';\n",
              "          await google.colab.output.renderOutput(dataTable, element);\n",
              "          const docLink = document.createElement('div');\n",
              "          docLink.innerHTML = docLinkHtml;\n",
              "          element.appendChild(docLink);\n",
              "        }\n",
              "      </script>\n",
              "    </div>\n",
              "  </div>\n",
              "  "
            ]
          },
          "metadata": {},
          "execution_count": 47
        }
      ]
    },
    {
      "cell_type": "code",
      "source": [
        "list_of_series = [pd.Series([1,2],index=['a','b']), pd.Series([3,4],index=['a','c'])]\n",
        "series2_df = pd.concat(list_of_series, axis=1).transpose()\n",
        "series2_df\n"
      ],
      "metadata": {
        "colab": {
          "base_uri": "https://localhost:8080/",
          "height": 109
        },
        "id": "lCIhZ93Ssmov",
        "outputId": "472f9516-03f6-4f54-8910-f3a46db62dc9"
      },
      "execution_count": 49,
      "outputs": [
        {
          "output_type": "execute_result",
          "data": {
            "text/plain": [
              "     a    b    c\n",
              "0  1.0  2.0  NaN\n",
              "1  3.0  NaN  4.0"
            ],
            "text/html": [
              "\n",
              "  <div id=\"df-1c1752f4-7c71-4b82-9e4f-dd83a1ae4d96\">\n",
              "    <div class=\"colab-df-container\">\n",
              "      <div>\n",
              "<style scoped>\n",
              "    .dataframe tbody tr th:only-of-type {\n",
              "        vertical-align: middle;\n",
              "    }\n",
              "\n",
              "    .dataframe tbody tr th {\n",
              "        vertical-align: top;\n",
              "    }\n",
              "\n",
              "    .dataframe thead th {\n",
              "        text-align: right;\n",
              "    }\n",
              "</style>\n",
              "<table border=\"1\" class=\"dataframe\">\n",
              "  <thead>\n",
              "    <tr style=\"text-align: right;\">\n",
              "      <th></th>\n",
              "      <th>a</th>\n",
              "      <th>b</th>\n",
              "      <th>c</th>\n",
              "    </tr>\n",
              "  </thead>\n",
              "  <tbody>\n",
              "    <tr>\n",
              "      <th>0</th>\n",
              "      <td>1.0</td>\n",
              "      <td>2.0</td>\n",
              "      <td>NaN</td>\n",
              "    </tr>\n",
              "    <tr>\n",
              "      <th>1</th>\n",
              "      <td>3.0</td>\n",
              "      <td>NaN</td>\n",
              "      <td>4.0</td>\n",
              "    </tr>\n",
              "  </tbody>\n",
              "</table>\n",
              "</div>\n",
              "      <button class=\"colab-df-convert\" onclick=\"convertToInteractive('df-1c1752f4-7c71-4b82-9e4f-dd83a1ae4d96')\"\n",
              "              title=\"Convert this dataframe to an interactive table.\"\n",
              "              style=\"display:none;\">\n",
              "        \n",
              "  <svg xmlns=\"http://www.w3.org/2000/svg\" height=\"24px\"viewBox=\"0 0 24 24\"\n",
              "       width=\"24px\">\n",
              "    <path d=\"M0 0h24v24H0V0z\" fill=\"none\"/>\n",
              "    <path d=\"M18.56 5.44l.94 2.06.94-2.06 2.06-.94-2.06-.94-.94-2.06-.94 2.06-2.06.94zm-11 1L8.5 8.5l.94-2.06 2.06-.94-2.06-.94L8.5 2.5l-.94 2.06-2.06.94zm10 10l.94 2.06.94-2.06 2.06-.94-2.06-.94-.94-2.06-.94 2.06-2.06.94z\"/><path d=\"M17.41 7.96l-1.37-1.37c-.4-.4-.92-.59-1.43-.59-.52 0-1.04.2-1.43.59L10.3 9.45l-7.72 7.72c-.78.78-.78 2.05 0 2.83L4 21.41c.39.39.9.59 1.41.59.51 0 1.02-.2 1.41-.59l7.78-7.78 2.81-2.81c.8-.78.8-2.07 0-2.86zM5.41 20L4 18.59l7.72-7.72 1.47 1.35L5.41 20z\"/>\n",
              "  </svg>\n",
              "      </button>\n",
              "      \n",
              "  <style>\n",
              "    .colab-df-container {\n",
              "      display:flex;\n",
              "      flex-wrap:wrap;\n",
              "      gap: 12px;\n",
              "    }\n",
              "\n",
              "    .colab-df-convert {\n",
              "      background-color: #E8F0FE;\n",
              "      border: none;\n",
              "      border-radius: 50%;\n",
              "      cursor: pointer;\n",
              "      display: none;\n",
              "      fill: #1967D2;\n",
              "      height: 32px;\n",
              "      padding: 0 0 0 0;\n",
              "      width: 32px;\n",
              "    }\n",
              "\n",
              "    .colab-df-convert:hover {\n",
              "      background-color: #E2EBFA;\n",
              "      box-shadow: 0px 1px 2px rgba(60, 64, 67, 0.3), 0px 1px 3px 1px rgba(60, 64, 67, 0.15);\n",
              "      fill: #174EA6;\n",
              "    }\n",
              "\n",
              "    [theme=dark] .colab-df-convert {\n",
              "      background-color: #3B4455;\n",
              "      fill: #D2E3FC;\n",
              "    }\n",
              "\n",
              "    [theme=dark] .colab-df-convert:hover {\n",
              "      background-color: #434B5C;\n",
              "      box-shadow: 0px 1px 3px 1px rgba(0, 0, 0, 0.15);\n",
              "      filter: drop-shadow(0px 1px 2px rgba(0, 0, 0, 0.3));\n",
              "      fill: #FFFFFF;\n",
              "    }\n",
              "  </style>\n",
              "\n",
              "      <script>\n",
              "        const buttonEl =\n",
              "          document.querySelector('#df-1c1752f4-7c71-4b82-9e4f-dd83a1ae4d96 button.colab-df-convert');\n",
              "        buttonEl.style.display =\n",
              "          google.colab.kernel.accessAllowed ? 'block' : 'none';\n",
              "\n",
              "        async function convertToInteractive(key) {\n",
              "          const element = document.querySelector('#df-1c1752f4-7c71-4b82-9e4f-dd83a1ae4d96');\n",
              "          const dataTable =\n",
              "            await google.colab.kernel.invokeFunction('convertToInteractive',\n",
              "                                                     [key], {});\n",
              "          if (!dataTable) return;\n",
              "\n",
              "          const docLinkHtml = 'Like what you see? Visit the ' +\n",
              "            '<a target=\"_blank\" href=https://colab.research.google.com/notebooks/data_table.ipynb>data table notebook</a>'\n",
              "            + ' to learn more about interactive tables.';\n",
              "          element.innerHTML = '';\n",
              "          dataTable['output_type'] = 'display_data';\n",
              "          await google.colab.output.renderOutput(dataTable, element);\n",
              "          const docLink = document.createElement('div');\n",
              "          docLink.innerHTML = docLinkHtml;\n",
              "          element.appendChild(docLink);\n",
              "        }\n",
              "      </script>\n",
              "    </div>\n",
              "  </div>\n",
              "  "
            ]
          },
          "metadata": {},
          "execution_count": 49
        }
      ]
    },
    {
      "cell_type": "markdown",
      "source": [
        "## tipos de archivos que se pueden leer con pandas. "
      ],
      "metadata": {
        "id": "RxtRMa6atFUM"
      }
    },
    {
      "cell_type": "code",
      "source": [
        "json_df = pd.read_json(\"test.json\", dtype={\"A\": \"float32\", \"bools\": \"int8\"}).dtypes"
      ],
      "metadata": {
        "id": "NmTJJxIttvOu"
      },
      "execution_count": null,
      "outputs": []
    },
    {
      "cell_type": "code",
      "source": [
        "#Read from a url\n",
        "url = \"https://www.fdic.gov/resources/resolutions/bank-failures/failed-bank-list\"\n",
        "dfs = pd.read_html(url)"
      ],
      "metadata": {
        "id": "P1JNUeqat8pd"
      },
      "execution_count": 52,
      "outputs": []
    },
    {
      "cell_type": "code",
      "source": [
        "#Read from a xml file\n",
        "df = pd.read_xml(xml)"
      ],
      "metadata": {
        "id": "ZDUnfMzHuSmy"
      },
      "execution_count": null,
      "outputs": []
    },
    {
      "cell_type": "code",
      "source": [
        "\n",
        "#Reading from a excel file\n",
        "xlsx = pd.ExcelFile(\"path_to_file.xls\")\n",
        "df = pd.read_excel(xlsx, \"Sheet1\")"
      ],
      "metadata": {
        "id": "cgnyB6aQuW2u"
      },
      "execution_count": null,
      "outputs": []
    },
    {
      "cell_type": "markdown",
      "source": [
        "## leer datos de una base de datos SQL, tanto en la tabla como en la consulta."
      ],
      "metadata": {
        "id": "gvz_Ag3IumiX"
      }
    },
    {
      "cell_type": "code",
      "source": [
        "pd.read_sql_table(\"datos\", motor)\n",
        "pd.read_sql_query(\"SELECT * FROM data\", motor)\n",
        "pd.read_sql_query(\"SELECT id, Col_1, Col_2 FROM data WHERE id = 42;\", engine)"
      ],
      "metadata": {
        "id": "qpLrIZWsud-9"
      },
      "execution_count": null,
      "outputs": []
    },
    {
      "cell_type": "markdown",
      "source": [
        "## leer varios archivos y crear un unico dataframe"
      ],
      "metadata": {
        "id": "yI8vEgwTuy4s"
      }
    },
    {
      "cell_type": "code",
      "source": [
        "import glob\n",
        "\n",
        "import os\n",
        "\n",
        "files = glob.glob(\"file_*.csv\")\n",
        "\n",
        "result = pd.concat([pd.read_csv(f) for f in files], ignore_index=True)\n",
        "# lo que hacemos aqui es leer todos los archivos que empiecen por el nombre\n",
        "# que estimemos y luego lo que hacemos es concatenarlos todos. "
      ],
      "metadata": {
        "id": "LGYsLTCru3Mq"
      },
      "execution_count": null,
      "outputs": []
    },
    {
      "cell_type": "markdown",
      "source": [
        "## leer un archivo trozo por trozo"
      ],
      "metadata": {
        "id": "xy2WoIRDvTHs"
      }
    },
    {
      "cell_type": "code",
      "source": [
        "\n",
        "tp = pd.read_csv('large_dataset.csv', iterator=True, chunksize=1000)  # gives TextFileReader, which is 3iterable with chunks of 1000 rows.\n",
        "df = pd.concat(tp, ignore_index=True)"
      ],
      "metadata": {
        "id": "lEEAQoeSvWji"
      },
      "execution_count": null,
      "outputs": []
    },
    {
      "cell_type": "markdown",
      "source": [
        "## mandar un datagrame a un archivo csv"
      ],
      "metadata": {
        "id": "wWpQmPQavlZ-"
      }
    },
    {
      "cell_type": "code",
      "source": [
        "# write to a csv file with an index\n",
        "housing_df.to_csv(\"/content/sample_data/california_housing_test1.csv\", index = True)\n",
        "#default is True\n",
        "# write to a csv file without an index\n",
        "housing_df.to_csv(\"/content/sample_data/california_housing_test2.csv\", index = False)"
      ],
      "metadata": {
        "id": "oWrmmgYtvn_r"
      },
      "execution_count": null,
      "outputs": []
    },
    {
      "cell_type": "markdown",
      "source": [
        "## comando para obtener información del dataframe"
      ],
      "metadata": {
        "id": "6Tjqpev_v6_h"
      }
    },
    {
      "cell_type": "code",
      "source": [
        "housing_df.info()\n",
        "\n",
        "housing_df.describe()\n",
        "\n",
        "housing_df.shape\n",
        "\n",
        "housing_df.tail(5)\n",
        "\n",
        "housing_df.head(5)\n"
      ],
      "metadata": {
        "id": "t1U-3RbbvvK2"
      },
      "execution_count": null,
      "outputs": []
    },
    {
      "cell_type": "markdown",
      "source": [
        "## crear un indice, reestablecer el indice al indice original. "
      ],
      "metadata": {
        "id": "vKoTKw-kwYJW"
      }
    },
    {
      "cell_type": "code",
      "source": [
        "df.set_index(\"la columna que yo determine\", inplace =True ) \n",
        "df.reset_index(inplace=True)\n",
        "# ahora lo que vamos a hacer es establecer el indice al leer el archivo\n",
        "housing_df = pd.read_csv(\"el archivo que sea\", index_col = \"Ciudad\")\n",
        "# por defecto es false, es decir cuando sea false, tenemos que asignarle\n",
        "# una variable"
      ],
      "metadata": {
        "id": "lo8hBKcmwFZl"
      },
      "execution_count": null,
      "outputs": []
    },
    {
      "cell_type": "markdown",
      "source": [
        "## selección de una o varias columnas del dataframe"
      ],
      "metadata": {
        "id": "bt0Ikc-sxhth"
      }
    },
    {
      "cell_type": "code",
      "source": [
        "#The titanic dataset is available in Kaggle\n",
        "titanic_df = pd.read_csv(\"/content/sample_data/train.csv\")\n",
        "\n",
        "gender_df = titanic_df['Sex']\n",
        "\n",
        "type(gender_df)\n",
        "pandas.core.series.Series\n",
        "\n",
        "#Select multiple columns\n",
        "name_df = titanic_df[['Name','Sex']]\n",
        "type(name_df)\n",
        "\n",
        "pandas.core.frame.DataFrame"
      ],
      "metadata": {
        "id": "EhjiL1Lgxkj0"
      },
      "execution_count": null,
      "outputs": []
    },
    {
      "cell_type": "markdown",
      "source": [
        "## operaciones con columna. añadir e insertar una columna. "
      ],
      "metadata": {
        "id": "vam8-UO3YZla"
      }
    },
    {
      "cell_type": "code",
      "source": [
        "import pandas as pd\n",
        "# Add a column\n",
        "cars_df = pd.DataFrame({'Cars':['Honda', 'Toyota','Ford','Tesla','Lucid','Rivian'], \n",
        "                        'Type':['IC', 'IC', 'IC', 'EV', 'EV', 'EV']})"
      ],
      "metadata": {
        "id": "iAQnihFCYzdP"
      },
      "execution_count": 1,
      "outputs": []
    },
    {
      "cell_type": "code",
      "source": [
        "cars_df['Price'] = [30000, 35000,25000,50000,120000,90000]\n",
        "cars_df"
      ],
      "metadata": {
        "colab": {
          "base_uri": "https://localhost:8080/",
          "height": 231
        },
        "id": "vA85c9FyY4Ve",
        "outputId": "71026d43-cea3-49e9-ab53-f07e200c5cad"
      },
      "execution_count": 2,
      "outputs": [
        {
          "output_type": "execute_result",
          "data": {
            "text/plain": [
              "     Cars Type   Price\n",
              "0   Honda   IC   30000\n",
              "1  Toyota   IC   35000\n",
              "2    Ford   IC   25000\n",
              "3   Tesla   EV   50000\n",
              "4   Lucid   EV  120000\n",
              "5  Rivian   EV   90000"
            ],
            "text/html": [
              "\n",
              "  <div id=\"df-da07dda4-a8e2-44fa-b1ca-4bd8f7bc61aa\">\n",
              "    <div class=\"colab-df-container\">\n",
              "      <div>\n",
              "<style scoped>\n",
              "    .dataframe tbody tr th:only-of-type {\n",
              "        vertical-align: middle;\n",
              "    }\n",
              "\n",
              "    .dataframe tbody tr th {\n",
              "        vertical-align: top;\n",
              "    }\n",
              "\n",
              "    .dataframe thead th {\n",
              "        text-align: right;\n",
              "    }\n",
              "</style>\n",
              "<table border=\"1\" class=\"dataframe\">\n",
              "  <thead>\n",
              "    <tr style=\"text-align: right;\">\n",
              "      <th></th>\n",
              "      <th>Cars</th>\n",
              "      <th>Type</th>\n",
              "      <th>Price</th>\n",
              "    </tr>\n",
              "  </thead>\n",
              "  <tbody>\n",
              "    <tr>\n",
              "      <th>0</th>\n",
              "      <td>Honda</td>\n",
              "      <td>IC</td>\n",
              "      <td>30000</td>\n",
              "    </tr>\n",
              "    <tr>\n",
              "      <th>1</th>\n",
              "      <td>Toyota</td>\n",
              "      <td>IC</td>\n",
              "      <td>35000</td>\n",
              "    </tr>\n",
              "    <tr>\n",
              "      <th>2</th>\n",
              "      <td>Ford</td>\n",
              "      <td>IC</td>\n",
              "      <td>25000</td>\n",
              "    </tr>\n",
              "    <tr>\n",
              "      <th>3</th>\n",
              "      <td>Tesla</td>\n",
              "      <td>EV</td>\n",
              "      <td>50000</td>\n",
              "    </tr>\n",
              "    <tr>\n",
              "      <th>4</th>\n",
              "      <td>Lucid</td>\n",
              "      <td>EV</td>\n",
              "      <td>120000</td>\n",
              "    </tr>\n",
              "    <tr>\n",
              "      <th>5</th>\n",
              "      <td>Rivian</td>\n",
              "      <td>EV</td>\n",
              "      <td>90000</td>\n",
              "    </tr>\n",
              "  </tbody>\n",
              "</table>\n",
              "</div>\n",
              "      <button class=\"colab-df-convert\" onclick=\"convertToInteractive('df-da07dda4-a8e2-44fa-b1ca-4bd8f7bc61aa')\"\n",
              "              title=\"Convert this dataframe to an interactive table.\"\n",
              "              style=\"display:none;\">\n",
              "        \n",
              "  <svg xmlns=\"http://www.w3.org/2000/svg\" height=\"24px\"viewBox=\"0 0 24 24\"\n",
              "       width=\"24px\">\n",
              "    <path d=\"M0 0h24v24H0V0z\" fill=\"none\"/>\n",
              "    <path d=\"M18.56 5.44l.94 2.06.94-2.06 2.06-.94-2.06-.94-.94-2.06-.94 2.06-2.06.94zm-11 1L8.5 8.5l.94-2.06 2.06-.94-2.06-.94L8.5 2.5l-.94 2.06-2.06.94zm10 10l.94 2.06.94-2.06 2.06-.94-2.06-.94-.94-2.06-.94 2.06-2.06.94z\"/><path d=\"M17.41 7.96l-1.37-1.37c-.4-.4-.92-.59-1.43-.59-.52 0-1.04.2-1.43.59L10.3 9.45l-7.72 7.72c-.78.78-.78 2.05 0 2.83L4 21.41c.39.39.9.59 1.41.59.51 0 1.02-.2 1.41-.59l7.78-7.78 2.81-2.81c.8-.78.8-2.07 0-2.86zM5.41 20L4 18.59l7.72-7.72 1.47 1.35L5.41 20z\"/>\n",
              "  </svg>\n",
              "      </button>\n",
              "      \n",
              "  <style>\n",
              "    .colab-df-container {\n",
              "      display:flex;\n",
              "      flex-wrap:wrap;\n",
              "      gap: 12px;\n",
              "    }\n",
              "\n",
              "    .colab-df-convert {\n",
              "      background-color: #E8F0FE;\n",
              "      border: none;\n",
              "      border-radius: 50%;\n",
              "      cursor: pointer;\n",
              "      display: none;\n",
              "      fill: #1967D2;\n",
              "      height: 32px;\n",
              "      padding: 0 0 0 0;\n",
              "      width: 32px;\n",
              "    }\n",
              "\n",
              "    .colab-df-convert:hover {\n",
              "      background-color: #E2EBFA;\n",
              "      box-shadow: 0px 1px 2px rgba(60, 64, 67, 0.3), 0px 1px 3px 1px rgba(60, 64, 67, 0.15);\n",
              "      fill: #174EA6;\n",
              "    }\n",
              "\n",
              "    [theme=dark] .colab-df-convert {\n",
              "      background-color: #3B4455;\n",
              "      fill: #D2E3FC;\n",
              "    }\n",
              "\n",
              "    [theme=dark] .colab-df-convert:hover {\n",
              "      background-color: #434B5C;\n",
              "      box-shadow: 0px 1px 3px 1px rgba(0, 0, 0, 0.15);\n",
              "      filter: drop-shadow(0px 1px 2px rgba(0, 0, 0, 0.3));\n",
              "      fill: #FFFFFF;\n",
              "    }\n",
              "  </style>\n",
              "\n",
              "      <script>\n",
              "        const buttonEl =\n",
              "          document.querySelector('#df-da07dda4-a8e2-44fa-b1ca-4bd8f7bc61aa button.colab-df-convert');\n",
              "        buttonEl.style.display =\n",
              "          google.colab.kernel.accessAllowed ? 'block' : 'none';\n",
              "\n",
              "        async function convertToInteractive(key) {\n",
              "          const element = document.querySelector('#df-da07dda4-a8e2-44fa-b1ca-4bd8f7bc61aa');\n",
              "          const dataTable =\n",
              "            await google.colab.kernel.invokeFunction('convertToInteractive',\n",
              "                                                     [key], {});\n",
              "          if (!dataTable) return;\n",
              "\n",
              "          const docLinkHtml = 'Like what you see? Visit the ' +\n",
              "            '<a target=\"_blank\" href=https://colab.research.google.com/notebooks/data_table.ipynb>data table notebook</a>'\n",
              "            + ' to learn more about interactive tables.';\n",
              "          element.innerHTML = '';\n",
              "          dataTable['output_type'] = 'display_data';\n",
              "          await google.colab.output.renderOutput(dataTable, element);\n",
              "          const docLink = document.createElement('div');\n",
              "          docLink.innerHTML = docLinkHtml;\n",
              "          element.appendChild(docLink);\n",
              "        }\n",
              "      </script>\n",
              "    </div>\n",
              "  </div>\n",
              "  "
            ]
          },
          "metadata": {},
          "execution_count": 2
        }
      ]
    },
    {
      "cell_type": "code",
      "source": [
        "#Insert a column based on the index.Here index 1\n",
        "cars_df = pd.DataFrame({'Cars':['Honda', 'Toyota','Ford','Tesla','Lucid','Rivian'], \n",
        "                        'Type':['IC', 'IC', 'IC', 'EV', 'EV', 'EV']})"
      ],
      "metadata": {
        "id": "s_vIdLGhY-jP"
      },
      "execution_count": 3,
      "outputs": []
    },
    {
      "cell_type": "code",
      "source": [
        "cars_df.insert(1,column = 'Price', value = [30000, 35000,25000,50000,120000,90000] )\n",
        "cars_df"
      ],
      "metadata": {
        "colab": {
          "base_uri": "https://localhost:8080/",
          "height": 231
        },
        "id": "Mh5vNsc_ZKet",
        "outputId": "1b3fae21-1969-40c5-bedd-d5d463b3023a"
      },
      "execution_count": 4,
      "outputs": [
        {
          "output_type": "execute_result",
          "data": {
            "text/plain": [
              "     Cars   Price Type\n",
              "0   Honda   30000   IC\n",
              "1  Toyota   35000   IC\n",
              "2    Ford   25000   IC\n",
              "3   Tesla   50000   EV\n",
              "4   Lucid  120000   EV\n",
              "5  Rivian   90000   EV"
            ],
            "text/html": [
              "\n",
              "  <div id=\"df-b3f04f26-3f6c-459f-8039-bb8bba32320a\">\n",
              "    <div class=\"colab-df-container\">\n",
              "      <div>\n",
              "<style scoped>\n",
              "    .dataframe tbody tr th:only-of-type {\n",
              "        vertical-align: middle;\n",
              "    }\n",
              "\n",
              "    .dataframe tbody tr th {\n",
              "        vertical-align: top;\n",
              "    }\n",
              "\n",
              "    .dataframe thead th {\n",
              "        text-align: right;\n",
              "    }\n",
              "</style>\n",
              "<table border=\"1\" class=\"dataframe\">\n",
              "  <thead>\n",
              "    <tr style=\"text-align: right;\">\n",
              "      <th></th>\n",
              "      <th>Cars</th>\n",
              "      <th>Price</th>\n",
              "      <th>Type</th>\n",
              "    </tr>\n",
              "  </thead>\n",
              "  <tbody>\n",
              "    <tr>\n",
              "      <th>0</th>\n",
              "      <td>Honda</td>\n",
              "      <td>30000</td>\n",
              "      <td>IC</td>\n",
              "    </tr>\n",
              "    <tr>\n",
              "      <th>1</th>\n",
              "      <td>Toyota</td>\n",
              "      <td>35000</td>\n",
              "      <td>IC</td>\n",
              "    </tr>\n",
              "    <tr>\n",
              "      <th>2</th>\n",
              "      <td>Ford</td>\n",
              "      <td>25000</td>\n",
              "      <td>IC</td>\n",
              "    </tr>\n",
              "    <tr>\n",
              "      <th>3</th>\n",
              "      <td>Tesla</td>\n",
              "      <td>50000</td>\n",
              "      <td>EV</td>\n",
              "    </tr>\n",
              "    <tr>\n",
              "      <th>4</th>\n",
              "      <td>Lucid</td>\n",
              "      <td>120000</td>\n",
              "      <td>EV</td>\n",
              "    </tr>\n",
              "    <tr>\n",
              "      <th>5</th>\n",
              "      <td>Rivian</td>\n",
              "      <td>90000</td>\n",
              "      <td>EV</td>\n",
              "    </tr>\n",
              "  </tbody>\n",
              "</table>\n",
              "</div>\n",
              "      <button class=\"colab-df-convert\" onclick=\"convertToInteractive('df-b3f04f26-3f6c-459f-8039-bb8bba32320a')\"\n",
              "              title=\"Convert this dataframe to an interactive table.\"\n",
              "              style=\"display:none;\">\n",
              "        \n",
              "  <svg xmlns=\"http://www.w3.org/2000/svg\" height=\"24px\"viewBox=\"0 0 24 24\"\n",
              "       width=\"24px\">\n",
              "    <path d=\"M0 0h24v24H0V0z\" fill=\"none\"/>\n",
              "    <path d=\"M18.56 5.44l.94 2.06.94-2.06 2.06-.94-2.06-.94-.94-2.06-.94 2.06-2.06.94zm-11 1L8.5 8.5l.94-2.06 2.06-.94-2.06-.94L8.5 2.5l-.94 2.06-2.06.94zm10 10l.94 2.06.94-2.06 2.06-.94-2.06-.94-.94-2.06-.94 2.06-2.06.94z\"/><path d=\"M17.41 7.96l-1.37-1.37c-.4-.4-.92-.59-1.43-.59-.52 0-1.04.2-1.43.59L10.3 9.45l-7.72 7.72c-.78.78-.78 2.05 0 2.83L4 21.41c.39.39.9.59 1.41.59.51 0 1.02-.2 1.41-.59l7.78-7.78 2.81-2.81c.8-.78.8-2.07 0-2.86zM5.41 20L4 18.59l7.72-7.72 1.47 1.35L5.41 20z\"/>\n",
              "  </svg>\n",
              "      </button>\n",
              "      \n",
              "  <style>\n",
              "    .colab-df-container {\n",
              "      display:flex;\n",
              "      flex-wrap:wrap;\n",
              "      gap: 12px;\n",
              "    }\n",
              "\n",
              "    .colab-df-convert {\n",
              "      background-color: #E8F0FE;\n",
              "      border: none;\n",
              "      border-radius: 50%;\n",
              "      cursor: pointer;\n",
              "      display: none;\n",
              "      fill: #1967D2;\n",
              "      height: 32px;\n",
              "      padding: 0 0 0 0;\n",
              "      width: 32px;\n",
              "    }\n",
              "\n",
              "    .colab-df-convert:hover {\n",
              "      background-color: #E2EBFA;\n",
              "      box-shadow: 0px 1px 2px rgba(60, 64, 67, 0.3), 0px 1px 3px 1px rgba(60, 64, 67, 0.15);\n",
              "      fill: #174EA6;\n",
              "    }\n",
              "\n",
              "    [theme=dark] .colab-df-convert {\n",
              "      background-color: #3B4455;\n",
              "      fill: #D2E3FC;\n",
              "    }\n",
              "\n",
              "    [theme=dark] .colab-df-convert:hover {\n",
              "      background-color: #434B5C;\n",
              "      box-shadow: 0px 1px 3px 1px rgba(0, 0, 0, 0.15);\n",
              "      filter: drop-shadow(0px 1px 2px rgba(0, 0, 0, 0.3));\n",
              "      fill: #FFFFFF;\n",
              "    }\n",
              "  </style>\n",
              "\n",
              "      <script>\n",
              "        const buttonEl =\n",
              "          document.querySelector('#df-b3f04f26-3f6c-459f-8039-bb8bba32320a button.colab-df-convert');\n",
              "        buttonEl.style.display =\n",
              "          google.colab.kernel.accessAllowed ? 'block' : 'none';\n",
              "\n",
              "        async function convertToInteractive(key) {\n",
              "          const element = document.querySelector('#df-b3f04f26-3f6c-459f-8039-bb8bba32320a');\n",
              "          const dataTable =\n",
              "            await google.colab.kernel.invokeFunction('convertToInteractive',\n",
              "                                                     [key], {});\n",
              "          if (!dataTable) return;\n",
              "\n",
              "          const docLinkHtml = 'Like what you see? Visit the ' +\n",
              "            '<a target=\"_blank\" href=https://colab.research.google.com/notebooks/data_table.ipynb>data table notebook</a>'\n",
              "            + ' to learn more about interactive tables.';\n",
              "          element.innerHTML = '';\n",
              "          dataTable['output_type'] = 'display_data';\n",
              "          await google.colab.output.renderOutput(dataTable, element);\n",
              "          const docLink = document.createElement('div');\n",
              "          docLink.innerHTML = docLinkHtml;\n",
              "          element.appendChild(docLink);\n",
              "        }\n",
              "      </script>\n",
              "    </div>\n",
              "  </div>\n",
              "  "
            ]
          },
          "metadata": {},
          "execution_count": 4
        }
      ]
    },
    {
      "cell_type": "markdown",
      "source": [
        "## como eliminar una columna del dataframe"
      ],
      "metadata": {
        "id": "FhdoSNQDZkB1"
      }
    },
    {
      "cell_type": "code",
      "source": [
        "cars_df = pd.DataFrame({'Cars':['Honda', 'Toyota','Ford','Tesla','Lucid','Rivian'], \n",
        "                        'Type':['IC', 'IC', 'IC', 'EV', 'EV', 'EV'],\n",
        "                        'Price':[30000, 35000,25000,50000,120000,90000]})\n",
        "#Delete a column\n",
        "del cars_df['Price']\n",
        "cars_df\n",
        "\n",
        "#Delete a column using drop\n",
        "cars_df.drop(labels = [\"Type\"], axis = 1, inplace = True)\n",
        "cars_df\n",
        "  \n",
        "#delete a column using pop and store that column in a another variable.\n",
        "prices_df = cars_df.pop('Price')\n",
        "prices_df\n",
        " "
      ],
      "metadata": {
        "id": "EM4Na-YAZR-O"
      },
      "execution_count": null,
      "outputs": []
    },
    {
      "cell_type": "code",
      "source": [
        "cars_df = pd.DataFrame({'Cars':['Honda', 'Toyota','Ford','Tesla','Lucid','Rivian'], \n",
        "                        'Type':['IC', 'IC', 'IC', 'EV', 'EV', 'EV'],\n",
        "                        'Price':[30000, 35000,25000,50000,120000,90000]})"
      ],
      "metadata": {
        "id": "d9_wxCSuZsUA"
      },
      "execution_count": 5,
      "outputs": []
    },
    {
      "cell_type": "code",
      "source": [
        "#Delete a column\n",
        "del cars_df['Price']\n",
        "cars_df"
      ],
      "metadata": {
        "colab": {
          "base_uri": "https://localhost:8080/",
          "height": 231
        },
        "id": "zHE-F4mpZx-V",
        "outputId": "9ef652d7-0bee-4eac-d5f5-0243c3b968cc"
      },
      "execution_count": 6,
      "outputs": [
        {
          "output_type": "execute_result",
          "data": {
            "text/plain": [
              "     Cars Type\n",
              "0   Honda   IC\n",
              "1  Toyota   IC\n",
              "2    Ford   IC\n",
              "3   Tesla   EV\n",
              "4   Lucid   EV\n",
              "5  Rivian   EV"
            ],
            "text/html": [
              "\n",
              "  <div id=\"df-a9a87354-99c3-45fc-830c-7013a51b080b\">\n",
              "    <div class=\"colab-df-container\">\n",
              "      <div>\n",
              "<style scoped>\n",
              "    .dataframe tbody tr th:only-of-type {\n",
              "        vertical-align: middle;\n",
              "    }\n",
              "\n",
              "    .dataframe tbody tr th {\n",
              "        vertical-align: top;\n",
              "    }\n",
              "\n",
              "    .dataframe thead th {\n",
              "        text-align: right;\n",
              "    }\n",
              "</style>\n",
              "<table border=\"1\" class=\"dataframe\">\n",
              "  <thead>\n",
              "    <tr style=\"text-align: right;\">\n",
              "      <th></th>\n",
              "      <th>Cars</th>\n",
              "      <th>Type</th>\n",
              "    </tr>\n",
              "  </thead>\n",
              "  <tbody>\n",
              "    <tr>\n",
              "      <th>0</th>\n",
              "      <td>Honda</td>\n",
              "      <td>IC</td>\n",
              "    </tr>\n",
              "    <tr>\n",
              "      <th>1</th>\n",
              "      <td>Toyota</td>\n",
              "      <td>IC</td>\n",
              "    </tr>\n",
              "    <tr>\n",
              "      <th>2</th>\n",
              "      <td>Ford</td>\n",
              "      <td>IC</td>\n",
              "    </tr>\n",
              "    <tr>\n",
              "      <th>3</th>\n",
              "      <td>Tesla</td>\n",
              "      <td>EV</td>\n",
              "    </tr>\n",
              "    <tr>\n",
              "      <th>4</th>\n",
              "      <td>Lucid</td>\n",
              "      <td>EV</td>\n",
              "    </tr>\n",
              "    <tr>\n",
              "      <th>5</th>\n",
              "      <td>Rivian</td>\n",
              "      <td>EV</td>\n",
              "    </tr>\n",
              "  </tbody>\n",
              "</table>\n",
              "</div>\n",
              "      <button class=\"colab-df-convert\" onclick=\"convertToInteractive('df-a9a87354-99c3-45fc-830c-7013a51b080b')\"\n",
              "              title=\"Convert this dataframe to an interactive table.\"\n",
              "              style=\"display:none;\">\n",
              "        \n",
              "  <svg xmlns=\"http://www.w3.org/2000/svg\" height=\"24px\"viewBox=\"0 0 24 24\"\n",
              "       width=\"24px\">\n",
              "    <path d=\"M0 0h24v24H0V0z\" fill=\"none\"/>\n",
              "    <path d=\"M18.56 5.44l.94 2.06.94-2.06 2.06-.94-2.06-.94-.94-2.06-.94 2.06-2.06.94zm-11 1L8.5 8.5l.94-2.06 2.06-.94-2.06-.94L8.5 2.5l-.94 2.06-2.06.94zm10 10l.94 2.06.94-2.06 2.06-.94-2.06-.94-.94-2.06-.94 2.06-2.06.94z\"/><path d=\"M17.41 7.96l-1.37-1.37c-.4-.4-.92-.59-1.43-.59-.52 0-1.04.2-1.43.59L10.3 9.45l-7.72 7.72c-.78.78-.78 2.05 0 2.83L4 21.41c.39.39.9.59 1.41.59.51 0 1.02-.2 1.41-.59l7.78-7.78 2.81-2.81c.8-.78.8-2.07 0-2.86zM5.41 20L4 18.59l7.72-7.72 1.47 1.35L5.41 20z\"/>\n",
              "  </svg>\n",
              "      </button>\n",
              "      \n",
              "  <style>\n",
              "    .colab-df-container {\n",
              "      display:flex;\n",
              "      flex-wrap:wrap;\n",
              "      gap: 12px;\n",
              "    }\n",
              "\n",
              "    .colab-df-convert {\n",
              "      background-color: #E8F0FE;\n",
              "      border: none;\n",
              "      border-radius: 50%;\n",
              "      cursor: pointer;\n",
              "      display: none;\n",
              "      fill: #1967D2;\n",
              "      height: 32px;\n",
              "      padding: 0 0 0 0;\n",
              "      width: 32px;\n",
              "    }\n",
              "\n",
              "    .colab-df-convert:hover {\n",
              "      background-color: #E2EBFA;\n",
              "      box-shadow: 0px 1px 2px rgba(60, 64, 67, 0.3), 0px 1px 3px 1px rgba(60, 64, 67, 0.15);\n",
              "      fill: #174EA6;\n",
              "    }\n",
              "\n",
              "    [theme=dark] .colab-df-convert {\n",
              "      background-color: #3B4455;\n",
              "      fill: #D2E3FC;\n",
              "    }\n",
              "\n",
              "    [theme=dark] .colab-df-convert:hover {\n",
              "      background-color: #434B5C;\n",
              "      box-shadow: 0px 1px 3px 1px rgba(0, 0, 0, 0.15);\n",
              "      filter: drop-shadow(0px 1px 2px rgba(0, 0, 0, 0.3));\n",
              "      fill: #FFFFFF;\n",
              "    }\n",
              "  </style>\n",
              "\n",
              "      <script>\n",
              "        const buttonEl =\n",
              "          document.querySelector('#df-a9a87354-99c3-45fc-830c-7013a51b080b button.colab-df-convert');\n",
              "        buttonEl.style.display =\n",
              "          google.colab.kernel.accessAllowed ? 'block' : 'none';\n",
              "\n",
              "        async function convertToInteractive(key) {\n",
              "          const element = document.querySelector('#df-a9a87354-99c3-45fc-830c-7013a51b080b');\n",
              "          const dataTable =\n",
              "            await google.colab.kernel.invokeFunction('convertToInteractive',\n",
              "                                                     [key], {});\n",
              "          if (!dataTable) return;\n",
              "\n",
              "          const docLinkHtml = 'Like what you see? Visit the ' +\n",
              "            '<a target=\"_blank\" href=https://colab.research.google.com/notebooks/data_table.ipynb>data table notebook</a>'\n",
              "            + ' to learn more about interactive tables.';\n",
              "          element.innerHTML = '';\n",
              "          dataTable['output_type'] = 'display_data';\n",
              "          await google.colab.output.renderOutput(dataTable, element);\n",
              "          const docLink = document.createElement('div');\n",
              "          docLink.innerHTML = docLinkHtml;\n",
              "          element.appendChild(docLink);\n",
              "        }\n",
              "      </script>\n",
              "    </div>\n",
              "  </div>\n",
              "  "
            ]
          },
          "metadata": {},
          "execution_count": 6
        }
      ]
    },
    {
      "cell_type": "code",
      "source": [
        "cars_df = pd.DataFrame({'Cars':['Honda', 'Toyota','Ford','Tesla','Lucid','Rivian'], \n",
        "                        'Type':['IC', 'IC', 'IC', 'EV', 'EV', 'EV'],\n",
        "                        'Price':[30000, 35000,25000,50000,120000,90000]})"
      ],
      "metadata": {
        "id": "vngSgXSaZ85W"
      },
      "execution_count": 8,
      "outputs": []
    },
    {
      "cell_type": "code",
      "source": [
        "#delete a column using pop and store that column in a another variable.\n",
        "prices_df = cars_df.pop('Price')\n",
        "prices_df"
      ],
      "metadata": {
        "colab": {
          "base_uri": "https://localhost:8080/"
        },
        "id": "FvmzE1OOZ2H_",
        "outputId": "86e7b09a-e35c-40e0-ea7f-802a3b592517"
      },
      "execution_count": 9,
      "outputs": [
        {
          "output_type": "execute_result",
          "data": {
            "text/plain": [
              "0     30000\n",
              "1     35000\n",
              "2     25000\n",
              "3     50000\n",
              "4    120000\n",
              "5     90000\n",
              "Name: Price, dtype: int64"
            ]
          },
          "metadata": {},
          "execution_count": 9
        }
      ]
    },
    {
      "cell_type": "markdown",
      "source": [
        "## como filtrar la columna y las filas del dataframe usando loc."
      ],
      "metadata": {
        "id": "Hf_Hky9baJnf"
      }
    },
    {
      "cell_type": "code",
      "source": [
        "#Set the index based on the passenger class\n",
        "titanic_df = pd.read_csv(\"/content/sample_data/train.csv\", index_col='Pclass')\n",
        "titanic_df\n",
        "#select the passengers travel in class 1\n",
        "titanic_df.loc[1,'Name']\n",
        "\n",
        "Pclass\n",
        "1    Cumings, Mrs. John Bradley (Florence Briggs Th...\n",
        "1         Futrelle, Mrs. Jacques Heath (Lily May Peel)\n",
        "1                              McCarthy, Mr. Timothy J\n",
        "1                             Bonnell, Miss. Elizabeth\n",
        "1                         Sloper, Mr. William Thompson\n",
        "                           ...                        \n",
        "1     Beckwith, Mrs. Richard Leonard (Sallie Monypeny)\n",
        "1                             Carlsson, Mr. Frans Olof\n",
        "1       Potter, Mrs. Thomas Jr (Lily Alexenia Wilson)\n",
        "1                         Graham, Miss. Margaret Edith\n",
        "1                                Behr, Mr. Karl Howell\n",
        "Name: Name, Length: 216, dtype: object"
      ],
      "metadata": {
        "id": "FVHbwGp8Z6-w"
      },
      "execution_count": null,
      "outputs": []
    },
    {
      "cell_type": "markdown",
      "source": [
        "## como filtrar la columna y las filas del dataframe usando iloc"
      ],
      "metadata": {
        "id": "XI6Toaefa4tS"
      }
    },
    {
      "cell_type": "code",
      "source": [
        "import pandas as pd\n",
        "titanic_df = pd.read_csv(\"/content/sample_data/train.csv\")\n",
        "titanic_df\n",
        "\n",
        "#use iloc to filter the dataframe\n",
        "titanic_df.loc[1:5]\n",
        "\n",
        "titanic_df.iloc[[10, 24, 90]]\n",
        "\n",
        "titanic_df.iloc[:9]\n",
        "\n",
        "titanic_df.iloc[90, 0:5]\n",
        "\n",
        "PassengerId                      91\n",
        "Survived                          0\n",
        "Pclass                            3\n",
        "Name           Christmann, Mr. Emil\n",
        "Sex                            male\n",
        "Name: 90, dtype: object"
      ],
      "metadata": {
        "id": "bD-VBdlva-Qn"
      },
      "execution_count": null,
      "outputs": []
    },
    {
      "cell_type": "markdown",
      "source": [
        "## como cambiar los valores de las columnas del dataframe"
      ],
      "metadata": {
        "id": "8DTTqbs3fUGU"
      }
    },
    {
      "cell_type": "code",
      "source": [
        "# por ejemplo tomemos el conjunto de datos de titanic. queremos crear una \n",
        "# nueva columna llamada nueva tarifa y añadir 10 euros a la tarifa existente\n",
        "titanic_df[@New Fare] = titanic_df[\"Fare\"].add(10)\n",
        "# asi de esta manera lo haríamos"
      ],
      "metadata": {
        "id": "Qq0QTt4YfYSW"
      },
      "execution_count": null,
      "outputs": []
    },
    {
      "cell_type": "code",
      "source": [
        "# si tenemos la edad equivocada de la persona y quieres corregrila con la \n",
        "# edad adecuada. podemos usar iloc y lueego darle indice\n",
        "titanic_df.iloc[4,5] = 99"
      ],
      "metadata": {
        "id": "l-p5k8QIf7up"
      },
      "execution_count": null,
      "outputs": []
    },
    {
      "cell_type": "markdown",
      "source": [
        "## como ordenar un dataframe"
      ],
      "metadata": {
        "id": "oeGHX_acgUUR"
      }
    },
    {
      "cell_type": "code",
      "source": [
        "import pandas as pd\n",
        "titanic_df = pd.read_csv(\"/content/sample_data/train.csv\")\n",
        "#Use the Titanic dataset from kaggle-sort by values-sort the column Age\n",
        "titanic_df.sort_values(by = 'Age', inplace = True) \n",
        "titanic_df\n",
        "\n",
        "#Sort by index\n",
        "titanic_df.sort_index(inplace = True) "
      ],
      "metadata": {
        "id": "BzY6_D-JgWtu"
      },
      "execution_count": null,
      "outputs": []
    },
    {
      "cell_type": "markdown",
      "source": [
        "## como aplicar una función a un dataframe. por ejemplo queremos calcular el impuesto sobre la tarifa. "
      ],
      "metadata": {
        "id": "L2FOlsO2gnn3"
      }
    },
    {
      "cell_type": "code",
      "source": [
        "#Calculate the tax of about 20% of the fare.Create a new column called Tax\n",
        "def tax_cal(fare):\n",
        "  return fare * 0.2\n",
        "\n",
        "titanic_df['Tax'] = titanic_df['Fare'].apply(tax_cal)\n",
        "titanic_df\n",
        "\n",
        "#output\n",
        "\n",
        "\tPassengerId\tSurvived\tName\tSex\tAge\tSibSp\tParch\tTicket\tFare\tCabin\tEmbarked\tTax\n",
        "Pclass\t\t\t\t\t\t\t\t\t\t\t\t\n",
        "1\t749\t0\tMarvin, Mr. Daniel Warner\tmale\t19.0\t1\t0\t113773\t53.1000\tD30\tS\t10.62000\n",
        "1\t271\t0\tCairns, Mr. Alexander\tmale\tNaN\t0\t0\t113798\t31.0000\tNaN\tS\t6.20000\n",
        "1\t600\t1\tDuff Gordon, Sir. Cosmo Edmund (\"Mr Morgan\")\tmale\t49.0\t1\t0\tPC 17485\t56.9292\tA20\tC\t11.3858"
      ],
      "metadata": {
        "id": "eeScIxQ7gvrh"
      },
      "execution_count": null,
      "outputs": []
    },
    {
      "cell_type": "markdown",
      "source": [
        "## como eliminars las filas duplicadas en el dataframe"
      ],
      "metadata": {
        "id": "3Yk0xi5Ng2tZ"
      }
    },
    {
      "cell_type": "code",
      "source": [
        "DataFrame.drop_duplicates(subset=None, keep=\"first\", implace=False,\n",
        "                          ignore_index=False)\n",
        "# first significa que quite todas menos la primera coincidencia\n",
        "# last significaría que quitara todas menos la última"
      ],
      "metadata": {
        "id": "J86EA959g6We"
      },
      "execution_count": null,
      "outputs": []
    },
    {
      "cell_type": "markdown",
      "source": [
        "## como haceer el filtrado del dataframe. "
      ],
      "metadata": {
        "id": "kDWpqwshhfY7"
      }
    },
    {
      "cell_type": "code",
      "source": [
        "#Select all the passenger records who are 70 and above.\n",
        "import pandas as pd\n",
        "titanic_df = pd.read_csv(\"/content/sample_data/train.csv\")\n",
        "age50_df = titanic_df[ (titanic_df['Age'] >= 70.0) ]\n",
        "age50_df\n",
        "\n",
        "#Output\n",
        "1 to 7 of 7 entries\n",
        "Filter\n",
        "\n",
        "index\tPassengerId\tSurvived\tPclass\tName\tSex\tAge\tSibSp\tParch\tTicket\tFare\tCabin\tEmbarked\n",
        "96\t97\t0\t1\tGoldschmidt, Mr. George B\tmale\t71.0\t0\t0\tPC 17754\t34.6542\tA5\tC\n",
        "116\t117\t0\t3\tConnors, Mr. Patrick\tmale\t70.5\t0\t0\t370369\t7.75\tNaN\tQ\n",
        "493\t494\t0\t1\tArtagaveytia, Mr. Ramon\tmale\t71.0\t0\t0\tPC 17609\t49.5042\tNaN\tC\n",
        "630\t631\t1\t1\tBarkworth, Mr. Algernon Henry Wilson\tmale\t80.0\t0\t0\t27042\t30.0\tA23\tS\n",
        "672\t673\t0\t2\tMitchell, Mr. Henry Michael\tmale\t70.0\t0\t0\tC.A. 24580\t10.5\tNaN\tS\n",
        "745\t746\t0\t1\tCrosby, Capt. Edward Gifford\tmale\t70.0\t1\t1\tWE/P 5735\t71.0\tB22\tS\n",
        "851\t852\t0\t3\tSvensson, Mr. Johan\tmale\t74.0\t0\t0\t347060\t7.775\tNaN\tS"
      ],
      "metadata": {
        "id": "XQfO8ilvhh2G"
      },
      "execution_count": null,
      "outputs": []
    },
    {
      "cell_type": "code",
      "source": [
        "#Using multiple logical operators\n",
        "#Use & for 'And'\n",
        "#Use | for 'Or'\n",
        "import pandas as pd\n",
        "titanic_df = pd.read_csv(\"/content/sample_data/train.csv\")\n",
        "age50_class1_df = titanic_df[(titanic_df.Age >= 50) & (titanic_df.Pclass == 1)]\n",
        "age50_class1_df"
      ],
      "metadata": {
        "id": "rU-waVIWhpNM"
      },
      "execution_count": null,
      "outputs": []
    },
    {
      "cell_type": "code",
      "source": [
        "#Use isin method\n",
        "import pandas as pd\n",
        "titanic_df = pd.read_csv(\"/content/sample_data/train.csv\")\n",
        "Last_Name = ['McCarthy, Mr. Timothy J','Fortune, Mr. Mark','Douglas']\n",
        "titanic_df[titanic_df.Name.isin(Last_Name)]"
      ],
      "metadata": {
        "id": "N1hkZlGShufO"
      },
      "execution_count": null,
      "outputs": []
    },
    {
      "cell_type": "code",
      "source": [
        "titanic_df[~titanic_df.Name.str.startswith(‘H’)]\n",
        "# así por ejemplo estariamos diciendo que queremos todos los nombres\n",
        "# que empiecen por h. "
      ],
      "metadata": {
        "id": "lBXDQjTGhzW3"
      },
      "execution_count": null,
      "outputs": []
    },
    {
      "cell_type": "code",
      "source": [
        "import pandas as pd\n",
        "titanic_df = pd.read_csv(\"/content/sample_data/train.csv\")\n",
        "w_filter = titanic_df['Age'] >= 70.0\n",
        "titanic_df.where(w_filter, inplace=True)\n",
        "titanic_df\n",
        "# esto también es filtrado pero con la clausula where."
      ],
      "metadata": {
        "id": "-hHGF5cwiCrq"
      },
      "execution_count": null,
      "outputs": []
    },
    {
      "cell_type": "markdown",
      "source": [
        "## quitar los valores nulos. "
      ],
      "metadata": {
        "id": "jKIhd4m5lSos"
      }
    },
    {
      "cell_type": "code",
      "source": [
        "# en este caso utilizaos any or all\n",
        "\n",
        "import pandas as pd\n",
        "titanic_df = pd.read_csv(\"/content/sample_data/train.csv\")\n",
        "titanic_df.dropna(how = 'any', inplace = True)\n",
        "titanic_df.shape\n",
        "\n",
        "import pandas as pd\n",
        "titanic_df = pd.read_csv(\"/content/sample_data/train.csv\")\n",
        "titanic_df.dropna(how = 'all', inplace = True)\n",
        "titanic_df.shape"
      ],
      "metadata": {
        "id": "SFFn2vyIlXLr"
      },
      "execution_count": null,
      "outputs": []
    },
    {
      "cell_type": "code",
      "source": [
        "# también lo podemos hacer para columnas específicas\n",
        "import pandas as pd\n",
        "titanic_df = pd.read_csv(“/content/sample_data/train.csv”)\n",
        "titanic_df.dropna(how = ‘any’, inplace = True, subset = [‘Age’, ‘Fare’])\n",
        "titanic_df.shape"
      ],
      "metadata": {
        "id": "v3W-dpmdlxvo"
      },
      "execution_count": null,
      "outputs": []
    },
    {
      "cell_type": "markdown",
      "source": [
        "## rellenar los valores nulos con un valor"
      ],
      "metadata": {
        "id": "qVfKuDQRmHOb"
      }
    },
    {
      "cell_type": "code",
      "source": [
        "#Now all the age null values are replaced by the mean\n",
        "import pandas as pd\n",
        "titanic_df = pd.read_csv(\"/content/sample_data/train.csv\")\n",
        "titanic_df[\"Age\"].fillna(titanic_df[\"Age\"].mean(), inplace = True)\n",
        "titanic_df.isnull().sum()\n",
        "\n",
        "PassengerId      0\n",
        "Survived         0\n",
        "Pclass           0\n",
        "Name             0\n",
        "Sex              0\n",
        "Age              0\n",
        "SibSp            0\n",
        "Parch            0\n",
        "Ticket           0\n",
        "Fare             0\n",
        "Cabin          687\n",
        "Embarked         2\n",
        "dtype: int64"
      ],
      "metadata": {
        "id": "ySEFDaEBmKFh"
      },
      "execution_count": null,
      "outputs": []
    },
    {
      "cell_type": "code",
      "source": [
        "# con esto lo que hacemos es analizar unos datos de manera aleatoria. \n",
        "\n",
        "import pandas as pd\n",
        "df = pd.DataFrame({'num_legs': [2, 4, 8, 0],\n",
        "                   'num_wings': [2, 0, 0, 0],\n",
        "                   'num_specimen_seen': [10, 2, 1, 8]},\n",
        "                  index=['falcon', 'dog', 'spider', 'fish'])\n",
        "df.sample(frac=0.5, replace=True, random_state=1)\n",
        "\n",
        "Output:\n",
        "\tnum_legs\tnum_wings\tnum_specimen_seen\n",
        "dog\t\t4\t\t0\t\t\t2\n",
        "fish\t0\t\t0\t"
      ],
      "metadata": {
        "id": "KYHsghBmmPkO"
      },
      "execution_count": null,
      "outputs": []
    },
    {
      "cell_type": "markdown",
      "source": [
        "## renombrar columnas de un dataframe"
      ],
      "metadata": {
        "id": "OigxzNC_ml0A"
      }
    },
    {
      "cell_type": "code",
      "source": [
        "#Change the column name\n",
        "df = pd.DataFrame({\"A\": [1, 2, 3], \"B\": [4, 5, 6]})"
      ],
      "metadata": {
        "id": "7J1hlXEtmyxi"
      },
      "execution_count": 30,
      "outputs": []
    },
    {
      "cell_type": "code",
      "source": [
        "df.rename(columns={\"A\": \"a\", \"B\": \"c\"})"
      ],
      "metadata": {
        "colab": {
          "base_uri": "https://localhost:8080/",
          "height": 140
        },
        "id": "G9OkbAvtm1oB",
        "outputId": "0076fcf8-404c-47e7-9bb4-8608aef6a3f2"
      },
      "execution_count": 31,
      "outputs": [
        {
          "output_type": "execute_result",
          "data": {
            "text/plain": [
              "   a  c\n",
              "0  1  4\n",
              "1  2  5\n",
              "2  3  6"
            ],
            "text/html": [
              "\n",
              "  <div id=\"df-6b99c36b-f57b-4621-8cc0-3c8358b6e63b\">\n",
              "    <div class=\"colab-df-container\">\n",
              "      <div>\n",
              "<style scoped>\n",
              "    .dataframe tbody tr th:only-of-type {\n",
              "        vertical-align: middle;\n",
              "    }\n",
              "\n",
              "    .dataframe tbody tr th {\n",
              "        vertical-align: top;\n",
              "    }\n",
              "\n",
              "    .dataframe thead th {\n",
              "        text-align: right;\n",
              "    }\n",
              "</style>\n",
              "<table border=\"1\" class=\"dataframe\">\n",
              "  <thead>\n",
              "    <tr style=\"text-align: right;\">\n",
              "      <th></th>\n",
              "      <th>a</th>\n",
              "      <th>c</th>\n",
              "    </tr>\n",
              "  </thead>\n",
              "  <tbody>\n",
              "    <tr>\n",
              "      <th>0</th>\n",
              "      <td>1</td>\n",
              "      <td>4</td>\n",
              "    </tr>\n",
              "    <tr>\n",
              "      <th>1</th>\n",
              "      <td>2</td>\n",
              "      <td>5</td>\n",
              "    </tr>\n",
              "    <tr>\n",
              "      <th>2</th>\n",
              "      <td>3</td>\n",
              "      <td>6</td>\n",
              "    </tr>\n",
              "  </tbody>\n",
              "</table>\n",
              "</div>\n",
              "      <button class=\"colab-df-convert\" onclick=\"convertToInteractive('df-6b99c36b-f57b-4621-8cc0-3c8358b6e63b')\"\n",
              "              title=\"Convert this dataframe to an interactive table.\"\n",
              "              style=\"display:none;\">\n",
              "        \n",
              "  <svg xmlns=\"http://www.w3.org/2000/svg\" height=\"24px\"viewBox=\"0 0 24 24\"\n",
              "       width=\"24px\">\n",
              "    <path d=\"M0 0h24v24H0V0z\" fill=\"none\"/>\n",
              "    <path d=\"M18.56 5.44l.94 2.06.94-2.06 2.06-.94-2.06-.94-.94-2.06-.94 2.06-2.06.94zm-11 1L8.5 8.5l.94-2.06 2.06-.94-2.06-.94L8.5 2.5l-.94 2.06-2.06.94zm10 10l.94 2.06.94-2.06 2.06-.94-2.06-.94-.94-2.06-.94 2.06-2.06.94z\"/><path d=\"M17.41 7.96l-1.37-1.37c-.4-.4-.92-.59-1.43-.59-.52 0-1.04.2-1.43.59L10.3 9.45l-7.72 7.72c-.78.78-.78 2.05 0 2.83L4 21.41c.39.39.9.59 1.41.59.51 0 1.02-.2 1.41-.59l7.78-7.78 2.81-2.81c.8-.78.8-2.07 0-2.86zM5.41 20L4 18.59l7.72-7.72 1.47 1.35L5.41 20z\"/>\n",
              "  </svg>\n",
              "      </button>\n",
              "      \n",
              "  <style>\n",
              "    .colab-df-container {\n",
              "      display:flex;\n",
              "      flex-wrap:wrap;\n",
              "      gap: 12px;\n",
              "    }\n",
              "\n",
              "    .colab-df-convert {\n",
              "      background-color: #E8F0FE;\n",
              "      border: none;\n",
              "      border-radius: 50%;\n",
              "      cursor: pointer;\n",
              "      display: none;\n",
              "      fill: #1967D2;\n",
              "      height: 32px;\n",
              "      padding: 0 0 0 0;\n",
              "      width: 32px;\n",
              "    }\n",
              "\n",
              "    .colab-df-convert:hover {\n",
              "      background-color: #E2EBFA;\n",
              "      box-shadow: 0px 1px 2px rgba(60, 64, 67, 0.3), 0px 1px 3px 1px rgba(60, 64, 67, 0.15);\n",
              "      fill: #174EA6;\n",
              "    }\n",
              "\n",
              "    [theme=dark] .colab-df-convert {\n",
              "      background-color: #3B4455;\n",
              "      fill: #D2E3FC;\n",
              "    }\n",
              "\n",
              "    [theme=dark] .colab-df-convert:hover {\n",
              "      background-color: #434B5C;\n",
              "      box-shadow: 0px 1px 3px 1px rgba(0, 0, 0, 0.15);\n",
              "      filter: drop-shadow(0px 1px 2px rgba(0, 0, 0, 0.3));\n",
              "      fill: #FFFFFF;\n",
              "    }\n",
              "  </style>\n",
              "\n",
              "      <script>\n",
              "        const buttonEl =\n",
              "          document.querySelector('#df-6b99c36b-f57b-4621-8cc0-3c8358b6e63b button.colab-df-convert');\n",
              "        buttonEl.style.display =\n",
              "          google.colab.kernel.accessAllowed ? 'block' : 'none';\n",
              "\n",
              "        async function convertToInteractive(key) {\n",
              "          const element = document.querySelector('#df-6b99c36b-f57b-4621-8cc0-3c8358b6e63b');\n",
              "          const dataTable =\n",
              "            await google.colab.kernel.invokeFunction('convertToInteractive',\n",
              "                                                     [key], {});\n",
              "          if (!dataTable) return;\n",
              "\n",
              "          const docLinkHtml = 'Like what you see? Visit the ' +\n",
              "            '<a target=\"_blank\" href=https://colab.research.google.com/notebooks/data_table.ipynb>data table notebook</a>'\n",
              "            + ' to learn more about interactive tables.';\n",
              "          element.innerHTML = '';\n",
              "          dataTable['output_type'] = 'display_data';\n",
              "          await google.colab.output.renderOutput(dataTable, element);\n",
              "          const docLink = document.createElement('div');\n",
              "          docLink.innerHTML = docLinkHtml;\n",
              "          element.appendChild(docLink);\n",
              "        }\n",
              "      </script>\n",
              "    </div>\n",
              "  </div>\n",
              "  "
            ]
          },
          "metadata": {},
          "execution_count": 31
        }
      ]
    },
    {
      "cell_type": "code",
      "source": [
        "#Rename the index\n",
        "\n",
        "df.rename(index={0: \"x\", 1: \"y\", 2: \"z\"})"
      ],
      "metadata": {
        "colab": {
          "base_uri": "https://localhost:8080/",
          "height": 140
        },
        "id": "jC-DZUqSm3yd",
        "outputId": "406b33dc-b39c-42ea-daaf-4ff501e999a3"
      },
      "execution_count": 32,
      "outputs": [
        {
          "output_type": "execute_result",
          "data": {
            "text/plain": [
              "   A  B\n",
              "x  1  4\n",
              "y  2  5\n",
              "z  3  6"
            ],
            "text/html": [
              "\n",
              "  <div id=\"df-96dbc36a-926b-432e-8d09-865e87a05ba5\">\n",
              "    <div class=\"colab-df-container\">\n",
              "      <div>\n",
              "<style scoped>\n",
              "    .dataframe tbody tr th:only-of-type {\n",
              "        vertical-align: middle;\n",
              "    }\n",
              "\n",
              "    .dataframe tbody tr th {\n",
              "        vertical-align: top;\n",
              "    }\n",
              "\n",
              "    .dataframe thead th {\n",
              "        text-align: right;\n",
              "    }\n",
              "</style>\n",
              "<table border=\"1\" class=\"dataframe\">\n",
              "  <thead>\n",
              "    <tr style=\"text-align: right;\">\n",
              "      <th></th>\n",
              "      <th>A</th>\n",
              "      <th>B</th>\n",
              "    </tr>\n",
              "  </thead>\n",
              "  <tbody>\n",
              "    <tr>\n",
              "      <th>x</th>\n",
              "      <td>1</td>\n",
              "      <td>4</td>\n",
              "    </tr>\n",
              "    <tr>\n",
              "      <th>y</th>\n",
              "      <td>2</td>\n",
              "      <td>5</td>\n",
              "    </tr>\n",
              "    <tr>\n",
              "      <th>z</th>\n",
              "      <td>3</td>\n",
              "      <td>6</td>\n",
              "    </tr>\n",
              "  </tbody>\n",
              "</table>\n",
              "</div>\n",
              "      <button class=\"colab-df-convert\" onclick=\"convertToInteractive('df-96dbc36a-926b-432e-8d09-865e87a05ba5')\"\n",
              "              title=\"Convert this dataframe to an interactive table.\"\n",
              "              style=\"display:none;\">\n",
              "        \n",
              "  <svg xmlns=\"http://www.w3.org/2000/svg\" height=\"24px\"viewBox=\"0 0 24 24\"\n",
              "       width=\"24px\">\n",
              "    <path d=\"M0 0h24v24H0V0z\" fill=\"none\"/>\n",
              "    <path d=\"M18.56 5.44l.94 2.06.94-2.06 2.06-.94-2.06-.94-.94-2.06-.94 2.06-2.06.94zm-11 1L8.5 8.5l.94-2.06 2.06-.94-2.06-.94L8.5 2.5l-.94 2.06-2.06.94zm10 10l.94 2.06.94-2.06 2.06-.94-2.06-.94-.94-2.06-.94 2.06-2.06.94z\"/><path d=\"M17.41 7.96l-1.37-1.37c-.4-.4-.92-.59-1.43-.59-.52 0-1.04.2-1.43.59L10.3 9.45l-7.72 7.72c-.78.78-.78 2.05 0 2.83L4 21.41c.39.39.9.59 1.41.59.51 0 1.02-.2 1.41-.59l7.78-7.78 2.81-2.81c.8-.78.8-2.07 0-2.86zM5.41 20L4 18.59l7.72-7.72 1.47 1.35L5.41 20z\"/>\n",
              "  </svg>\n",
              "      </button>\n",
              "      \n",
              "  <style>\n",
              "    .colab-df-container {\n",
              "      display:flex;\n",
              "      flex-wrap:wrap;\n",
              "      gap: 12px;\n",
              "    }\n",
              "\n",
              "    .colab-df-convert {\n",
              "      background-color: #E8F0FE;\n",
              "      border: none;\n",
              "      border-radius: 50%;\n",
              "      cursor: pointer;\n",
              "      display: none;\n",
              "      fill: #1967D2;\n",
              "      height: 32px;\n",
              "      padding: 0 0 0 0;\n",
              "      width: 32px;\n",
              "    }\n",
              "\n",
              "    .colab-df-convert:hover {\n",
              "      background-color: #E2EBFA;\n",
              "      box-shadow: 0px 1px 2px rgba(60, 64, 67, 0.3), 0px 1px 3px 1px rgba(60, 64, 67, 0.15);\n",
              "      fill: #174EA6;\n",
              "    }\n",
              "\n",
              "    [theme=dark] .colab-df-convert {\n",
              "      background-color: #3B4455;\n",
              "      fill: #D2E3FC;\n",
              "    }\n",
              "\n",
              "    [theme=dark] .colab-df-convert:hover {\n",
              "      background-color: #434B5C;\n",
              "      box-shadow: 0px 1px 3px 1px rgba(0, 0, 0, 0.15);\n",
              "      filter: drop-shadow(0px 1px 2px rgba(0, 0, 0, 0.3));\n",
              "      fill: #FFFFFF;\n",
              "    }\n",
              "  </style>\n",
              "\n",
              "      <script>\n",
              "        const buttonEl =\n",
              "          document.querySelector('#df-96dbc36a-926b-432e-8d09-865e87a05ba5 button.colab-df-convert');\n",
              "        buttonEl.style.display =\n",
              "          google.colab.kernel.accessAllowed ? 'block' : 'none';\n",
              "\n",
              "        async function convertToInteractive(key) {\n",
              "          const element = document.querySelector('#df-96dbc36a-926b-432e-8d09-865e87a05ba5');\n",
              "          const dataTable =\n",
              "            await google.colab.kernel.invokeFunction('convertToInteractive',\n",
              "                                                     [key], {});\n",
              "          if (!dataTable) return;\n",
              "\n",
              "          const docLinkHtml = 'Like what you see? Visit the ' +\n",
              "            '<a target=\"_blank\" href=https://colab.research.google.com/notebooks/data_table.ipynb>data table notebook</a>'\n",
              "            + ' to learn more about interactive tables.';\n",
              "          element.innerHTML = '';\n",
              "          dataTable['output_type'] = 'display_data';\n",
              "          await google.colab.output.renderOutput(dataTable, element);\n",
              "          const docLink = document.createElement('div');\n",
              "          docLink.innerHTML = docLinkHtml;\n",
              "          element.appendChild(docLink);\n",
              "        }\n",
              "      </script>\n",
              "    </div>\n",
              "  </div>\n",
              "  "
            ]
          },
          "metadata": {},
          "execution_count": 32
        }
      ]
    },
    {
      "cell_type": "markdown",
      "source": [
        "## convertir cambiar tipo de datos"
      ],
      "metadata": {
        "id": "RE5pFXcrnCKR"
      }
    },
    {
      "cell_type": "code",
      "source": [
        "#Convert a data type using astype method\n",
        "import pandas as pd\n",
        "titanic_df = pd.read_csv(\"/content/sample_data/train.csv\")\n",
        "titanic_df.info()\n",
        "\n",
        "# 6   SibSp        891 non-null    int64 \n",
        "\n",
        "titanic_df[\"SibSp\"] = titanic_df[\"SibSp\"].astype(\"float64\")\n",
        "titanic_df.info()\n",
        "\n",
        "#6   SibSp        891 non-null    float64"
      ],
      "metadata": {
        "id": "xOSRx8PPm64U"
      },
      "execution_count": null,
      "outputs": []
    },
    {
      "cell_type": "markdown",
      "source": [
        "## remplazar un valor por otro valor en el dataframe. "
      ],
      "metadata": {
        "id": "Cw01dE4ynOsX"
      }
    },
    {
      "cell_type": "code",
      "source": [
        "#Use the replace() method.\n",
        "df['column name'] = df['column name'].replace(['old value'],'new value')\n",
        "#To replace the value for the whole dataframe\n",
        "df = df.replace(['old value'],'new value')"
      ],
      "metadata": {
        "id": "PjP0pwTHnSIF"
      },
      "execution_count": null,
      "outputs": []
    },
    {
      "cell_type": "code",
      "source": [
        "df = pd.DataFrame({'A': [0, 1, 2, 3, 4],\n",
        "                   'B': [5, 6, 7, 8, 9],\n",
        "                   'C': ['a', 'b', 'c', 'd', 'e']})\n",
        "\n",
        "df.replace(0, 5)\n",
        "\n",
        "#output\n",
        "\tA  B  C\n",
        "0  5  5  a\n",
        "1  1  6  b\n",
        "2  2  7  c\n",
        "3  3  8  d\n",
        "4  4  9  e\n",
        "\n",
        "df.replace([0, 1, 2, 3], 4)\n",
        "    \n",
        "   A  B  C\n",
        "0  4  5  a\n",
        "1  4  6  b\n",
        "2  4  7  c\n",
        "3  4  8  d\n",
        "4  4  9  e"
      ],
      "metadata": {
        "id": "qZTVQ_6snkAz"
      },
      "execution_count": null,
      "outputs": []
    },
    {
      "cell_type": "code",
      "source": [
        "df = pd.DataFrame({'A': [0, 1, 2, 3, 4],\n",
        "                   'B': [5, 6, 7, 8, 9],\n",
        "                   'C': ['a', 'b', 'c', 'd', 'e']})"
      ],
      "metadata": {
        "id": "NvzBrZeunnP6"
      },
      "execution_count": 35,
      "outputs": []
    },
    {
      "cell_type": "code",
      "source": [
        "df"
      ],
      "metadata": {
        "colab": {
          "base_uri": "https://localhost:8080/",
          "height": 201
        },
        "id": "4tiMkMZRnxsz",
        "outputId": "65cd55d2-70f7-4dde-e7a6-0915cca85111"
      },
      "execution_count": 36,
      "outputs": [
        {
          "output_type": "execute_result",
          "data": {
            "text/plain": [
              "   A  B  C\n",
              "0  0  5  a\n",
              "1  1  6  b\n",
              "2  2  7  c\n",
              "3  3  8  d\n",
              "4  4  9  e"
            ],
            "text/html": [
              "\n",
              "  <div id=\"df-a956ce96-2a7b-4977-8b40-59c37b24e0f0\">\n",
              "    <div class=\"colab-df-container\">\n",
              "      <div>\n",
              "<style scoped>\n",
              "    .dataframe tbody tr th:only-of-type {\n",
              "        vertical-align: middle;\n",
              "    }\n",
              "\n",
              "    .dataframe tbody tr th {\n",
              "        vertical-align: top;\n",
              "    }\n",
              "\n",
              "    .dataframe thead th {\n",
              "        text-align: right;\n",
              "    }\n",
              "</style>\n",
              "<table border=\"1\" class=\"dataframe\">\n",
              "  <thead>\n",
              "    <tr style=\"text-align: right;\">\n",
              "      <th></th>\n",
              "      <th>A</th>\n",
              "      <th>B</th>\n",
              "      <th>C</th>\n",
              "    </tr>\n",
              "  </thead>\n",
              "  <tbody>\n",
              "    <tr>\n",
              "      <th>0</th>\n",
              "      <td>0</td>\n",
              "      <td>5</td>\n",
              "      <td>a</td>\n",
              "    </tr>\n",
              "    <tr>\n",
              "      <th>1</th>\n",
              "      <td>1</td>\n",
              "      <td>6</td>\n",
              "      <td>b</td>\n",
              "    </tr>\n",
              "    <tr>\n",
              "      <th>2</th>\n",
              "      <td>2</td>\n",
              "      <td>7</td>\n",
              "      <td>c</td>\n",
              "    </tr>\n",
              "    <tr>\n",
              "      <th>3</th>\n",
              "      <td>3</td>\n",
              "      <td>8</td>\n",
              "      <td>d</td>\n",
              "    </tr>\n",
              "    <tr>\n",
              "      <th>4</th>\n",
              "      <td>4</td>\n",
              "      <td>9</td>\n",
              "      <td>e</td>\n",
              "    </tr>\n",
              "  </tbody>\n",
              "</table>\n",
              "</div>\n",
              "      <button class=\"colab-df-convert\" onclick=\"convertToInteractive('df-a956ce96-2a7b-4977-8b40-59c37b24e0f0')\"\n",
              "              title=\"Convert this dataframe to an interactive table.\"\n",
              "              style=\"display:none;\">\n",
              "        \n",
              "  <svg xmlns=\"http://www.w3.org/2000/svg\" height=\"24px\"viewBox=\"0 0 24 24\"\n",
              "       width=\"24px\">\n",
              "    <path d=\"M0 0h24v24H0V0z\" fill=\"none\"/>\n",
              "    <path d=\"M18.56 5.44l.94 2.06.94-2.06 2.06-.94-2.06-.94-.94-2.06-.94 2.06-2.06.94zm-11 1L8.5 8.5l.94-2.06 2.06-.94-2.06-.94L8.5 2.5l-.94 2.06-2.06.94zm10 10l.94 2.06.94-2.06 2.06-.94-2.06-.94-.94-2.06-.94 2.06-2.06.94z\"/><path d=\"M17.41 7.96l-1.37-1.37c-.4-.4-.92-.59-1.43-.59-.52 0-1.04.2-1.43.59L10.3 9.45l-7.72 7.72c-.78.78-.78 2.05 0 2.83L4 21.41c.39.39.9.59 1.41.59.51 0 1.02-.2 1.41-.59l7.78-7.78 2.81-2.81c.8-.78.8-2.07 0-2.86zM5.41 20L4 18.59l7.72-7.72 1.47 1.35L5.41 20z\"/>\n",
              "  </svg>\n",
              "      </button>\n",
              "      \n",
              "  <style>\n",
              "    .colab-df-container {\n",
              "      display:flex;\n",
              "      flex-wrap:wrap;\n",
              "      gap: 12px;\n",
              "    }\n",
              "\n",
              "    .colab-df-convert {\n",
              "      background-color: #E8F0FE;\n",
              "      border: none;\n",
              "      border-radius: 50%;\n",
              "      cursor: pointer;\n",
              "      display: none;\n",
              "      fill: #1967D2;\n",
              "      height: 32px;\n",
              "      padding: 0 0 0 0;\n",
              "      width: 32px;\n",
              "    }\n",
              "\n",
              "    .colab-df-convert:hover {\n",
              "      background-color: #E2EBFA;\n",
              "      box-shadow: 0px 1px 2px rgba(60, 64, 67, 0.3), 0px 1px 3px 1px rgba(60, 64, 67, 0.15);\n",
              "      fill: #174EA6;\n",
              "    }\n",
              "\n",
              "    [theme=dark] .colab-df-convert {\n",
              "      background-color: #3B4455;\n",
              "      fill: #D2E3FC;\n",
              "    }\n",
              "\n",
              "    [theme=dark] .colab-df-convert:hover {\n",
              "      background-color: #434B5C;\n",
              "      box-shadow: 0px 1px 3px 1px rgba(0, 0, 0, 0.15);\n",
              "      filter: drop-shadow(0px 1px 2px rgba(0, 0, 0, 0.3));\n",
              "      fill: #FFFFFF;\n",
              "    }\n",
              "  </style>\n",
              "\n",
              "      <script>\n",
              "        const buttonEl =\n",
              "          document.querySelector('#df-a956ce96-2a7b-4977-8b40-59c37b24e0f0 button.colab-df-convert');\n",
              "        buttonEl.style.display =\n",
              "          google.colab.kernel.accessAllowed ? 'block' : 'none';\n",
              "\n",
              "        async function convertToInteractive(key) {\n",
              "          const element = document.querySelector('#df-a956ce96-2a7b-4977-8b40-59c37b24e0f0');\n",
              "          const dataTable =\n",
              "            await google.colab.kernel.invokeFunction('convertToInteractive',\n",
              "                                                     [key], {});\n",
              "          if (!dataTable) return;\n",
              "\n",
              "          const docLinkHtml = 'Like what you see? Visit the ' +\n",
              "            '<a target=\"_blank\" href=https://colab.research.google.com/notebooks/data_table.ipynb>data table notebook</a>'\n",
              "            + ' to learn more about interactive tables.';\n",
              "          element.innerHTML = '';\n",
              "          dataTable['output_type'] = 'display_data';\n",
              "          await google.colab.output.renderOutput(dataTable, element);\n",
              "          const docLink = document.createElement('div');\n",
              "          docLink.innerHTML = docLinkHtml;\n",
              "          element.appendChild(docLink);\n",
              "        }\n",
              "      </script>\n",
              "    </div>\n",
              "  </div>\n",
              "  "
            ]
          },
          "metadata": {},
          "execution_count": 36
        }
      ]
    },
    {
      "cell_type": "code",
      "source": [
        "df.replace(0, 5) # como vemos esta remplazando los 0 por 5"
      ],
      "metadata": {
        "colab": {
          "base_uri": "https://localhost:8080/",
          "height": 201
        },
        "id": "nxzmuBjcnnqF",
        "outputId": "0b13dc0a-1237-44cf-934c-009ccaeb93d8"
      },
      "execution_count": 37,
      "outputs": [
        {
          "output_type": "execute_result",
          "data": {
            "text/plain": [
              "   A  B  C\n",
              "0  5  5  a\n",
              "1  1  6  b\n",
              "2  2  7  c\n",
              "3  3  8  d\n",
              "4  4  9  e"
            ],
            "text/html": [
              "\n",
              "  <div id=\"df-81baa770-dc31-46a7-9f13-c0df9fdc5f8c\">\n",
              "    <div class=\"colab-df-container\">\n",
              "      <div>\n",
              "<style scoped>\n",
              "    .dataframe tbody tr th:only-of-type {\n",
              "        vertical-align: middle;\n",
              "    }\n",
              "\n",
              "    .dataframe tbody tr th {\n",
              "        vertical-align: top;\n",
              "    }\n",
              "\n",
              "    .dataframe thead th {\n",
              "        text-align: right;\n",
              "    }\n",
              "</style>\n",
              "<table border=\"1\" class=\"dataframe\">\n",
              "  <thead>\n",
              "    <tr style=\"text-align: right;\">\n",
              "      <th></th>\n",
              "      <th>A</th>\n",
              "      <th>B</th>\n",
              "      <th>C</th>\n",
              "    </tr>\n",
              "  </thead>\n",
              "  <tbody>\n",
              "    <tr>\n",
              "      <th>0</th>\n",
              "      <td>5</td>\n",
              "      <td>5</td>\n",
              "      <td>a</td>\n",
              "    </tr>\n",
              "    <tr>\n",
              "      <th>1</th>\n",
              "      <td>1</td>\n",
              "      <td>6</td>\n",
              "      <td>b</td>\n",
              "    </tr>\n",
              "    <tr>\n",
              "      <th>2</th>\n",
              "      <td>2</td>\n",
              "      <td>7</td>\n",
              "      <td>c</td>\n",
              "    </tr>\n",
              "    <tr>\n",
              "      <th>3</th>\n",
              "      <td>3</td>\n",
              "      <td>8</td>\n",
              "      <td>d</td>\n",
              "    </tr>\n",
              "    <tr>\n",
              "      <th>4</th>\n",
              "      <td>4</td>\n",
              "      <td>9</td>\n",
              "      <td>e</td>\n",
              "    </tr>\n",
              "  </tbody>\n",
              "</table>\n",
              "</div>\n",
              "      <button class=\"colab-df-convert\" onclick=\"convertToInteractive('df-81baa770-dc31-46a7-9f13-c0df9fdc5f8c')\"\n",
              "              title=\"Convert this dataframe to an interactive table.\"\n",
              "              style=\"display:none;\">\n",
              "        \n",
              "  <svg xmlns=\"http://www.w3.org/2000/svg\" height=\"24px\"viewBox=\"0 0 24 24\"\n",
              "       width=\"24px\">\n",
              "    <path d=\"M0 0h24v24H0V0z\" fill=\"none\"/>\n",
              "    <path d=\"M18.56 5.44l.94 2.06.94-2.06 2.06-.94-2.06-.94-.94-2.06-.94 2.06-2.06.94zm-11 1L8.5 8.5l.94-2.06 2.06-.94-2.06-.94L8.5 2.5l-.94 2.06-2.06.94zm10 10l.94 2.06.94-2.06 2.06-.94-2.06-.94-.94-2.06-.94 2.06-2.06.94z\"/><path d=\"M17.41 7.96l-1.37-1.37c-.4-.4-.92-.59-1.43-.59-.52 0-1.04.2-1.43.59L10.3 9.45l-7.72 7.72c-.78.78-.78 2.05 0 2.83L4 21.41c.39.39.9.59 1.41.59.51 0 1.02-.2 1.41-.59l7.78-7.78 2.81-2.81c.8-.78.8-2.07 0-2.86zM5.41 20L4 18.59l7.72-7.72 1.47 1.35L5.41 20z\"/>\n",
              "  </svg>\n",
              "      </button>\n",
              "      \n",
              "  <style>\n",
              "    .colab-df-container {\n",
              "      display:flex;\n",
              "      flex-wrap:wrap;\n",
              "      gap: 12px;\n",
              "    }\n",
              "\n",
              "    .colab-df-convert {\n",
              "      background-color: #E8F0FE;\n",
              "      border: none;\n",
              "      border-radius: 50%;\n",
              "      cursor: pointer;\n",
              "      display: none;\n",
              "      fill: #1967D2;\n",
              "      height: 32px;\n",
              "      padding: 0 0 0 0;\n",
              "      width: 32px;\n",
              "    }\n",
              "\n",
              "    .colab-df-convert:hover {\n",
              "      background-color: #E2EBFA;\n",
              "      box-shadow: 0px 1px 2px rgba(60, 64, 67, 0.3), 0px 1px 3px 1px rgba(60, 64, 67, 0.15);\n",
              "      fill: #174EA6;\n",
              "    }\n",
              "\n",
              "    [theme=dark] .colab-df-convert {\n",
              "      background-color: #3B4455;\n",
              "      fill: #D2E3FC;\n",
              "    }\n",
              "\n",
              "    [theme=dark] .colab-df-convert:hover {\n",
              "      background-color: #434B5C;\n",
              "      box-shadow: 0px 1px 3px 1px rgba(0, 0, 0, 0.15);\n",
              "      filter: drop-shadow(0px 1px 2px rgba(0, 0, 0, 0.3));\n",
              "      fill: #FFFFFF;\n",
              "    }\n",
              "  </style>\n",
              "\n",
              "      <script>\n",
              "        const buttonEl =\n",
              "          document.querySelector('#df-81baa770-dc31-46a7-9f13-c0df9fdc5f8c button.colab-df-convert');\n",
              "        buttonEl.style.display =\n",
              "          google.colab.kernel.accessAllowed ? 'block' : 'none';\n",
              "\n",
              "        async function convertToInteractive(key) {\n",
              "          const element = document.querySelector('#df-81baa770-dc31-46a7-9f13-c0df9fdc5f8c');\n",
              "          const dataTable =\n",
              "            await google.colab.kernel.invokeFunction('convertToInteractive',\n",
              "                                                     [key], {});\n",
              "          if (!dataTable) return;\n",
              "\n",
              "          const docLinkHtml = 'Like what you see? Visit the ' +\n",
              "            '<a target=\"_blank\" href=https://colab.research.google.com/notebooks/data_table.ipynb>data table notebook</a>'\n",
              "            + ' to learn more about interactive tables.';\n",
              "          element.innerHTML = '';\n",
              "          dataTable['output_type'] = 'display_data';\n",
              "          await google.colab.output.renderOutput(dataTable, element);\n",
              "          const docLink = document.createElement('div');\n",
              "          docLink.innerHTML = docLinkHtml;\n",
              "          element.appendChild(docLink);\n",
              "        }\n",
              "      </script>\n",
              "    </div>\n",
              "  </div>\n",
              "  "
            ]
          },
          "metadata": {},
          "execution_count": 37
        }
      ]
    },
    {
      "cell_type": "markdown",
      "source": [
        "## multiples condiciones en un filtro a uso de variables. "
      ],
      "metadata": {
        "id": "_5YiQG49oDbA"
      }
    },
    {
      "cell_type": "code",
      "source": [
        "#Long filter and confusing\n",
        "titanic_df[(titanic_df.Age >= 50) & (titanic_df.Pclass == 1) & (titanic_df.Sex == ‘male’) & (titanic_df.Survived == 1)]\n",
        "#Split the filter into smaller parts and assign it to variable\n",
        "v_age = titanic_df.Age >= 50\n",
        "v_class = titanic_df.Pclass == 1\n",
        "v_sex = titanic_df.Sex == ‘male’\n",
        "v_survived = titanic_df.Survived == 1\n",
        "titanic_df.loc[v_age & v_class & v_sex & v_survived]\n",
        "#Use & for And\n",
        "#Use | for Or "
      ],
      "metadata": {
        "id": "Jt8fzBlTnqtz"
      },
      "execution_count": null,
      "outputs": []
    }
  ]
}