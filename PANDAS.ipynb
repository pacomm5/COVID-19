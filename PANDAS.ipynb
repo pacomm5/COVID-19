{
  "nbformat": 4,
  "nbformat_minor": 0,
  "metadata": {
    "colab": {
      "name": "PANDAS.ipynb",
      "provenance": [],
      "authorship_tag": "ABX9TyPQgBbVHNm7Y4hWsgsyS1h4",
      "include_colab_link": true
    },
    "kernelspec": {
      "name": "python3",
      "display_name": "Python 3"
    },
    "language_info": {
      "name": "python"
    }
  },
  "cells": [
    {
      "cell_type": "markdown",
      "metadata": {
        "id": "view-in-github",
        "colab_type": "text"
      },
      "source": [
        "<a href=\"https://colab.research.google.com/github/pacomm5/COVID-19/blob/master/PANDAS.ipynb\" target=\"_parent\"><img src=\"https://colab.research.google.com/assets/colab-badge.svg\" alt=\"Open In Colab\"/></a>"
      ]
    },
    {
      "cell_type": "markdown",
      "source": [
        "#SERIES"
      ],
      "metadata": {
        "id": "T1i1gxTz3FEg"
      }
    },
    {
      "cell_type": "markdown",
      "source": [
        "##CREAR UNA SERIE DE PANDAS A PARTIR DE UN INDICE NORMAL DE LISTA Y UN INDICE PERSONALIZADO"
      ],
      "metadata": {
        "id": "Xfyq-AkP2N1r"
      }
    },
    {
      "cell_type": "code",
      "source": [
        "import pandas as pd\n"
      ],
      "metadata": {
        "id": "0H7ZcoZ82s2V"
      },
      "execution_count": 2,
      "outputs": []
    },
    {
      "cell_type": "code",
      "execution_count": 3,
      "metadata": {
        "colab": {
          "base_uri": "https://localhost:8080/"
        },
        "id": "5FC6WiLh2EKd",
        "outputId": "3f450d79-2f8a-4d9f-ac64-e315b5921cfa"
      },
      "outputs": [
        {
          "output_type": "execute_result",
          "data": {
            "text/plain": [
              "car1     Honda\n",
              "car2    Toyota\n",
              "car3      Ford\n",
              "ev1      Tesla\n",
              "ev2      Lucid\n",
              "ev3     Rivian\n",
              "dtype: object"
            ]
          },
          "metadata": {},
          "execution_count": 3
        }
      ],
      "source": [
        "# Create a pandas data series from a list:\n",
        "\n",
        "L1 = ['Honda', 'Toyota','Ford','Tesla','Lucid','Rivian']\n",
        "L1\n",
        "\n",
        "\n",
        "#['Honda', 'Toyota', 'Ford', 'Tesla', 'Lucid', 'Rivian']\n",
        "\n",
        "pseries_1 = pd.Series(data = L1)\n",
        "pseries_1\n",
        "\n",
        "\n",
        "\n",
        "\n",
        "#create a pandas data series with index\n",
        "car_index = ['car1','car2','car3','ev1','ev2','ev3']\n",
        "\n",
        "pseries_2 = pd.Series(data = L1,index = car_index)\n",
        "pseries_2\n",
        "\n"
      ]
    },
    {
      "cell_type": "code",
      "source": [
        "#create a pandas data series with index\n",
        "car_index = ['car1','car2','car3','ev1','ev2','ev3']\n",
        "\n",
        "pseries_2 = pd.Series(data = L1,index = car_index)\n",
        "pseries_2"
      ],
      "metadata": {
        "colab": {
          "base_uri": "https://localhost:8080/"
        },
        "id": "MneODxT92lfg",
        "outputId": "ee373677-a898-4856-e705-99e68354bf1c"
      },
      "execution_count": 4,
      "outputs": [
        {
          "output_type": "execute_result",
          "data": {
            "text/plain": [
              "car1     Honda\n",
              "car2    Toyota\n",
              "car3      Ford\n",
              "ev1      Tesla\n",
              "ev2      Lucid\n",
              "ev3     Rivian\n",
              "dtype: object"
            ]
          },
          "metadata": {},
          "execution_count": 4
        }
      ]
    },
    {
      "cell_type": "markdown",
      "source": [
        "##Crea una serie de Pandas a partir de un diccionario de pitón"
      ],
      "metadata": {
        "id": "rzdRZAJC2-4l"
      }
    },
    {
      "cell_type": "code",
      "source": [
        "#Create a pandas series from a python dictionary.\n",
        "pdict_1 = {\n",
        "    'car1': 'Honda',\n",
        "    'car2': 'Toyota',\n",
        "    'car3': 'Ford',\n",
        "    'car4': 'GM',\n",
        "    'car5': 'BMW',\n",
        "    'car6': 'Nissan'}\n",
        "    \n",
        "\n",
        "  \n",
        "pseries_2 = pd.Series(pdict_1)\n",
        "pseries_2\n",
        "  \n"
      ],
      "metadata": {
        "colab": {
          "base_uri": "https://localhost:8080/"
        },
        "id": "NFeXdkoV2xPC",
        "outputId": "ba750ba9-608d-454e-bef9-2e131bead325"
      },
      "execution_count": 8,
      "outputs": [
        {
          "output_type": "execute_result",
          "data": {
            "text/plain": [
              "car1     Honda\n",
              "car2    Toyota\n",
              "car3      Ford\n",
              "car4        GM\n",
              "car5       BMW\n",
              "car6    Nissan\n",
              "dtype: object"
            ]
          },
          "metadata": {},
          "execution_count": 8
        }
      ]
    },
    {
      "cell_type": "markdown",
      "source": [
        "## CREAR UNA SERIE DE PANDAS A PARTIR DE UNA AMTRIZ NUMPY"
      ],
      "metadata": {
        "id": "yQ0zX2ut4gqn"
      }
    },
    {
      "cell_type": "code",
      "source": [
        "#Create a pandas series from a Numpy array\n",
        "import numpy as np\n",
        "array_01 = np.random.randn(5)\n",
        "array_01\n",
        "\n"
      ],
      "metadata": {
        "colab": {
          "base_uri": "https://localhost:8080/"
        },
        "id": "yvtm8hoV362O",
        "outputId": "f75e88e2-19bc-43d7-d3a5-aefecd3ebbe8"
      },
      "execution_count": 9,
      "outputs": [
        {
          "output_type": "execute_result",
          "data": {
            "text/plain": [
              "array([-0.92119945,  0.84390479,  0.12608938,  1.30174335,  0.3212127 ])"
            ]
          },
          "metadata": {},
          "execution_count": 9
        }
      ]
    },
    {
      "cell_type": "code",
      "source": [
        "pseries_3 = pd.Series(array_01)\n",
        "pseries_3"
      ],
      "metadata": {
        "colab": {
          "base_uri": "https://localhost:8080/"
        },
        "id": "B-226RlF42Z4",
        "outputId": "7fb93a77-8ce0-4d32-e618-12d539e90b0f"
      },
      "execution_count": 10,
      "outputs": [
        {
          "output_type": "execute_result",
          "data": {
            "text/plain": [
              "0   -0.921199\n",
              "1    0.843905\n",
              "2    0.126089\n",
              "3    1.301743\n",
              "4    0.321213\n",
              "dtype: float64"
            ]
          },
          "metadata": {},
          "execution_count": 10
        }
      ]
    },
    {
      "cell_type": "markdown",
      "source": [
        "## CREAR UNA SERIE DE PANDAS A PARTIR DE UN VALOR ESCALAR. "
      ],
      "metadata": {
        "id": "bF7O1IkC5EJA"
      }
    },
    {
      "cell_type": "code",
      "source": [
        "#If data is a scalar value, an index must be provided. \n",
        "#The value will be repeated to match the length of index.\n",
        "pseries_4 = pd.Series(8.0, index=[\"a\", \"b\", \"c\", \"d\", \"e\"])\n",
        "pseries_4\n"
      ],
      "metadata": {
        "colab": {
          "base_uri": "https://localhost:8080/"
        },
        "id": "ybBZcvuq46g8",
        "outputId": "1c4a4666-40a4-4e84-c17a-6f192c172af5"
      },
      "execution_count": 11,
      "outputs": [
        {
          "output_type": "execute_result",
          "data": {
            "text/plain": [
              "a    8.0\n",
              "b    8.0\n",
              "c    8.0\n",
              "d    8.0\n",
              "e    8.0\n",
              "dtype: float64"
            ]
          },
          "metadata": {},
          "execution_count": 11
        }
      ]
    },
    {
      "cell_type": "markdown",
      "source": [
        "## series, attributes-sort, index, sort values, describe, shape"
      ],
      "metadata": {
        "id": "Rd5Cjew55bx7"
      }
    },
    {
      "cell_type": "code",
      "source": [
        "pseries_2.shape"
      ],
      "metadata": {
        "colab": {
          "base_uri": "https://localhost:8080/"
        },
        "id": "MebiSMjf5vNS",
        "outputId": "0eb24625-db1e-432e-8dad-7e8fe6350221"
      },
      "execution_count": 12,
      "outputs": [
        {
          "output_type": "execute_result",
          "data": {
            "text/plain": [
              "(6,)"
            ]
          },
          "metadata": {},
          "execution_count": 12
        }
      ]
    },
    {
      "cell_type": "code",
      "source": [
        "pseries_2.describe"
      ],
      "metadata": {
        "colab": {
          "base_uri": "https://localhost:8080/"
        },
        "id": "mG0DD8FC50KV",
        "outputId": "f6d15143-453b-4c7c-b1c2-ac98082769fb"
      },
      "execution_count": 13,
      "outputs": [
        {
          "output_type": "execute_result",
          "data": {
            "text/plain": [
              "<bound method NDFrame.describe of car1     Honda\n",
              "car2    Toyota\n",
              "car3      Ford\n",
              "car4        GM\n",
              "car5       BMW\n",
              "car6    Nissan\n",
              "dtype: object>"
            ]
          },
          "metadata": {},
          "execution_count": 13
        }
      ]
    },
    {
      "cell_type": "code",
      "source": [
        "pseries_2.index"
      ],
      "metadata": {
        "colab": {
          "base_uri": "https://localhost:8080/"
        },
        "id": "idFkDAXv53q3",
        "outputId": "8ab8eaea-7ecd-43bc-bf80-40f4b278482b"
      },
      "execution_count": 14,
      "outputs": [
        {
          "output_type": "execute_result",
          "data": {
            "text/plain": [
              "Index(['car1', 'car2', 'car3', 'car4', 'car5', 'car6'], dtype='object')"
            ]
          },
          "metadata": {},
          "execution_count": 14
        }
      ]
    },
    {
      "cell_type": "code",
      "source": [
        "pseries_2.values"
      ],
      "metadata": {
        "colab": {
          "base_uri": "https://localhost:8080/"
        },
        "id": "cn-Rb_do572T",
        "outputId": "5a74a3b4-a75b-46ef-c315-cad700da3e2e"
      },
      "execution_count": 15,
      "outputs": [
        {
          "output_type": "execute_result",
          "data": {
            "text/plain": [
              "array(['Honda', 'Toyota', 'Ford', 'GM', 'BMW', 'Nissan'], dtype=object)"
            ]
          },
          "metadata": {},
          "execution_count": 15
        }
      ]
    },
    {
      "cell_type": "code",
      "source": [
        "pseries_2.sort_index"
      ],
      "metadata": {
        "colab": {
          "base_uri": "https://localhost:8080/"
        },
        "id": "tWOYPGWH5-1E",
        "outputId": "5c14e52e-31a4-43c6-c4f3-85a532beca3d"
      },
      "execution_count": 16,
      "outputs": [
        {
          "output_type": "execute_result",
          "data": {
            "text/plain": [
              "<bound method Series.sort_index of car1     Honda\n",
              "car2    Toyota\n",
              "car3      Ford\n",
              "car4        GM\n",
              "car5       BMW\n",
              "car6    Nissan\n",
              "dtype: object>"
            ]
          },
          "metadata": {},
          "execution_count": 16
        }
      ]
    },
    {
      "cell_type": "code",
      "source": [
        "pseries_2.sort_values(inplace=True)\n",
        "pseries_2"
      ],
      "metadata": {
        "colab": {
          "base_uri": "https://localhost:8080/"
        },
        "id": "UDqTC1in6CtU",
        "outputId": "fd2a4ccc-bdf9-417a-85f7-aea31b96938f"
      },
      "execution_count": 17,
      "outputs": [
        {
          "output_type": "execute_result",
          "data": {
            "text/plain": [
              "car5       BMW\n",
              "car3      Ford\n",
              "car4        GM\n",
              "car1     Honda\n",
              "car6    Nissan\n",
              "car2    Toyota\n",
              "dtype: object"
            ]
          },
          "metadata": {},
          "execution_count": 17
        }
      ]
    },
    {
      "cell_type": "code",
      "source": [
        ""
      ],
      "metadata": {
        "id": "NKG5Dso66Hs_"
      },
      "execution_count": null,
      "outputs": []
    }
  ]
}